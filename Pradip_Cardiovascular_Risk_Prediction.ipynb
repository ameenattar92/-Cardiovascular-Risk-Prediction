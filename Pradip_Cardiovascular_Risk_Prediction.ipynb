{
  "nbformat": 4,
  "nbformat_minor": 0,
  "metadata": {
    "colab": {
      "name": "Pradip Cardiovascular Risk Prediction.ipynb",
      "provenance": [],
      "collapsed_sections": [],
      "include_colab_link": true
    },
    "kernelspec": {
      "name": "python3",
      "display_name": "Python 3"
    },
    "language_info": {
      "name": "python"
    }
  },
  "cells": [
    {
      "cell_type": "markdown",
      "metadata": {
        "id": "view-in-github",
        "colab_type": "text"
      },
      "source": [
        "<a href=\"https://colab.research.google.com/github/ameenattar92/Cardiovascular-Risk-Prediction/blob/main/Pradip_Cardiovascular_Risk_Prediction.ipynb\" target=\"_parent\"><img src=\"https://colab.research.google.com/assets/colab-badge.svg\" alt=\"Open In Colab\"/></a>"
      ]
    },
    {
      "cell_type": "markdown",
      "metadata": {
        "id": "Zxpghfs9NJXf"
      },
      "source": [
        "The dataset is from an ongoing cardiovascular study on residents of the town of Framingham,\n",
        "Massachusetts.\n",
        "\n",
        "The classification goal is to predict whether the patient has a 10-year risk of\n",
        "future coronary heart disease (CHD). \n",
        "\n",
        "The dataset provides the patients’ information. It includes\n",
        "over 4,000 records and 15 attributes.\n",
        "Variables\n",
        "Each attribute is a potential risk factor. There are both demographic, behavioral, and medical risk\n",
        "factors.\n",
        "\n",
        "# **Data Description**\n",
        "### **Demographic:**\n",
        "* Sex: male or female(\"M\" or \"F\")\n",
        "* Age: Age of the patient;(Continuous - Although the recorded ages have been truncated to whole numbers, the concept of age is continuous)\n",
        "\n",
        "### **Behavioral**\n",
        "* is_smoking: whether or not the patient is a current smoker (\"YES\" or \"NO\")\n",
        "* Cigs Per Day: the number of cigarettes that the person smoked on average in one day.(can be\n",
        "considered continuous as one can have any number of cigarettes, even half a cigarette.)\n",
        "\n",
        "### **Medical( history)**\n",
        "* BP Meds: whether or not the patient was on blood pressure medication (Nominal)\n",
        "* Prevalent Stroke: whether or not the patient had previously had a stroke (Nominal)\n",
        "* Prevalent Hyp: whether or not the patient was hypertensive (Nominal)\n",
        "* Diabetes: whether or not the patient had diabetes (Nominal)\n",
        "Medical(current)\n",
        "* Tot Chol: total cholesterol level (Continuous)\n",
        "* Sys BP: systolic blood pressure (Continuous)\n",
        "* Dia BP: diastolic blood pressure (Continuous)\n",
        "* BMI: Body Mass Index (Continuous)\n",
        "* Heart Rate: heart rate (Continuous - In medical research, variables such as heart rate though in\n",
        "fact discrete, yet are considered continuous because of large number of possible values.)\n",
        "* Glucose: glucose level (Continuous)\n",
        "Predict variable (desired target)\n",
        "* 10-year risk of coronary heart disease CHD(binary: “1”, means “Yes”, “0” means “No”) -\n",
        "DV"
      ]
    },
    {
      "cell_type": "code",
      "metadata": {
        "id": "qmpG9TGrNF1r"
      },
      "source": [
        "#Importing libraries\n",
        "import warnings\n",
        "warnings.filterwarnings('ignore')\n",
        "\n",
        "import numpy as np\n",
        "import pandas as pd\n",
        "import matplotlib.pyplot as plt\n",
        "import seaborn as sns\n",
        "\n",
        "from sklearn.decomposition import PCA\n",
        "from sklearn.neighbors import KNeighborsClassifier\n",
        "from sklearn.model_selection import train_test_split\n",
        "from sklearn.metrics import confusion_matrix, accuracy_score, roc_auc_score, classification_report\n",
        "from sklearn.metrics import plot_confusion_matrix, plot_precision_recall_curve, plot_roc_curve\n",
        "from sklearn.naive_bayes import GaussianNB\n",
        "from sklearn.model_selection import GridSearchCV\n",
        "from sklearn.linear_model import LogisticRegression\n",
        "from imblearn.over_sampling import SMOTE\n",
        "\n",
        "%matplotlib inline"
      ],
      "execution_count": 1,
      "outputs": []
    },
    {
      "cell_type": "code",
      "metadata": {
        "id": "V8bgzm-s6R_f",
        "colab": {
          "base_uri": "https://localhost:8080/"
        },
        "outputId": "0aed9899-d2cd-460a-c725-1080943d2268"
      },
      "source": [
        "from google.colab import drive\n",
        "drive.mount('/content/drive')"
      ],
      "execution_count": 2,
      "outputs": [
        {
          "output_type": "stream",
          "text": [
            "Mounted at /content/drive\n"
          ],
          "name": "stdout"
        }
      ]
    },
    {
      "cell_type": "code",
      "metadata": {
        "id": "K_WkdwvGQboT"
      },
      "source": [
        "path = '/content/drive/MyDrive/Capstone Project/Cardiovascular Risk Prediction - Pradip Solanki/data/data_cardiovascular_risk.csv'"
      ],
      "execution_count": 3,
      "outputs": []
    },
    {
      "cell_type": "code",
      "metadata": {
        "id": "FamABNSXSx-O"
      },
      "source": [
        "cvs_df = pd.read_csv(path , index_col = \"id\")"
      ],
      "execution_count": 4,
      "outputs": []
    },
    {
      "cell_type": "code",
      "metadata": {
        "colab": {
          "base_uri": "https://localhost:8080/",
          "height": 237
        },
        "id": "H04jla35i3OP",
        "outputId": "8701767b-c1b4-44ee-bd1a-54855d2372a2"
      },
      "source": [
        "cvs_df.head()"
      ],
      "execution_count": 5,
      "outputs": [
        {
          "output_type": "execute_result",
          "data": {
            "text/html": [
              "<div>\n",
              "<style scoped>\n",
              "    .dataframe tbody tr th:only-of-type {\n",
              "        vertical-align: middle;\n",
              "    }\n",
              "\n",
              "    .dataframe tbody tr th {\n",
              "        vertical-align: top;\n",
              "    }\n",
              "\n",
              "    .dataframe thead th {\n",
              "        text-align: right;\n",
              "    }\n",
              "</style>\n",
              "<table border=\"1\" class=\"dataframe\">\n",
              "  <thead>\n",
              "    <tr style=\"text-align: right;\">\n",
              "      <th></th>\n",
              "      <th>age</th>\n",
              "      <th>education</th>\n",
              "      <th>sex</th>\n",
              "      <th>is_smoking</th>\n",
              "      <th>cigsPerDay</th>\n",
              "      <th>BPMeds</th>\n",
              "      <th>prevalentStroke</th>\n",
              "      <th>prevalentHyp</th>\n",
              "      <th>diabetes</th>\n",
              "      <th>totChol</th>\n",
              "      <th>sysBP</th>\n",
              "      <th>diaBP</th>\n",
              "      <th>BMI</th>\n",
              "      <th>heartRate</th>\n",
              "      <th>glucose</th>\n",
              "      <th>TenYearCHD</th>\n",
              "    </tr>\n",
              "    <tr>\n",
              "      <th>id</th>\n",
              "      <th></th>\n",
              "      <th></th>\n",
              "      <th></th>\n",
              "      <th></th>\n",
              "      <th></th>\n",
              "      <th></th>\n",
              "      <th></th>\n",
              "      <th></th>\n",
              "      <th></th>\n",
              "      <th></th>\n",
              "      <th></th>\n",
              "      <th></th>\n",
              "      <th></th>\n",
              "      <th></th>\n",
              "      <th></th>\n",
              "      <th></th>\n",
              "    </tr>\n",
              "  </thead>\n",
              "  <tbody>\n",
              "    <tr>\n",
              "      <th>0</th>\n",
              "      <td>64</td>\n",
              "      <td>2.0</td>\n",
              "      <td>F</td>\n",
              "      <td>YES</td>\n",
              "      <td>3.0</td>\n",
              "      <td>0.0</td>\n",
              "      <td>0</td>\n",
              "      <td>0</td>\n",
              "      <td>0</td>\n",
              "      <td>221.0</td>\n",
              "      <td>148.0</td>\n",
              "      <td>85.0</td>\n",
              "      <td>NaN</td>\n",
              "      <td>90.0</td>\n",
              "      <td>80.0</td>\n",
              "      <td>1</td>\n",
              "    </tr>\n",
              "    <tr>\n",
              "      <th>1</th>\n",
              "      <td>36</td>\n",
              "      <td>4.0</td>\n",
              "      <td>M</td>\n",
              "      <td>NO</td>\n",
              "      <td>0.0</td>\n",
              "      <td>0.0</td>\n",
              "      <td>0</td>\n",
              "      <td>1</td>\n",
              "      <td>0</td>\n",
              "      <td>212.0</td>\n",
              "      <td>168.0</td>\n",
              "      <td>98.0</td>\n",
              "      <td>29.77</td>\n",
              "      <td>72.0</td>\n",
              "      <td>75.0</td>\n",
              "      <td>0</td>\n",
              "    </tr>\n",
              "    <tr>\n",
              "      <th>2</th>\n",
              "      <td>46</td>\n",
              "      <td>1.0</td>\n",
              "      <td>F</td>\n",
              "      <td>YES</td>\n",
              "      <td>10.0</td>\n",
              "      <td>0.0</td>\n",
              "      <td>0</td>\n",
              "      <td>0</td>\n",
              "      <td>0</td>\n",
              "      <td>250.0</td>\n",
              "      <td>116.0</td>\n",
              "      <td>71.0</td>\n",
              "      <td>20.35</td>\n",
              "      <td>88.0</td>\n",
              "      <td>94.0</td>\n",
              "      <td>0</td>\n",
              "    </tr>\n",
              "    <tr>\n",
              "      <th>3</th>\n",
              "      <td>50</td>\n",
              "      <td>1.0</td>\n",
              "      <td>M</td>\n",
              "      <td>YES</td>\n",
              "      <td>20.0</td>\n",
              "      <td>0.0</td>\n",
              "      <td>0</td>\n",
              "      <td>1</td>\n",
              "      <td>0</td>\n",
              "      <td>233.0</td>\n",
              "      <td>158.0</td>\n",
              "      <td>88.0</td>\n",
              "      <td>28.26</td>\n",
              "      <td>68.0</td>\n",
              "      <td>94.0</td>\n",
              "      <td>1</td>\n",
              "    </tr>\n",
              "    <tr>\n",
              "      <th>4</th>\n",
              "      <td>64</td>\n",
              "      <td>1.0</td>\n",
              "      <td>F</td>\n",
              "      <td>YES</td>\n",
              "      <td>30.0</td>\n",
              "      <td>0.0</td>\n",
              "      <td>0</td>\n",
              "      <td>0</td>\n",
              "      <td>0</td>\n",
              "      <td>241.0</td>\n",
              "      <td>136.5</td>\n",
              "      <td>85.0</td>\n",
              "      <td>26.42</td>\n",
              "      <td>70.0</td>\n",
              "      <td>77.0</td>\n",
              "      <td>0</td>\n",
              "    </tr>\n",
              "  </tbody>\n",
              "</table>\n",
              "</div>"
            ],
            "text/plain": [
              "    age  education sex is_smoking  ...    BMI  heartRate  glucose  TenYearCHD\n",
              "id                                 ...                                       \n",
              "0    64        2.0   F        YES  ...    NaN       90.0     80.0           1\n",
              "1    36        4.0   M         NO  ...  29.77       72.0     75.0           0\n",
              "2    46        1.0   F        YES  ...  20.35       88.0     94.0           0\n",
              "3    50        1.0   M        YES  ...  28.26       68.0     94.0           1\n",
              "4    64        1.0   F        YES  ...  26.42       70.0     77.0           0\n",
              "\n",
              "[5 rows x 16 columns]"
            ]
          },
          "metadata": {
            "tags": []
          },
          "execution_count": 5
        }
      ]
    },
    {
      "cell_type": "markdown",
      "metadata": {
        "id": "AQPng3aR7C9T"
      },
      "source": [
        "## **Naive Bayes Classifier** "
      ]
    },
    {
      "cell_type": "markdown",
      "metadata": {
        "id": "Pt-_f6GPqM1E"
      },
      "source": [
        "Let's first build naive bayes classifier to act as baseline model."
      ]
    },
    {
      "cell_type": "code",
      "metadata": {
        "id": "gdCrkKg6hEeH",
        "colab": {
          "base_uri": "https://localhost:8080/"
        },
        "outputId": "edc5671c-bd80-4281-d0d6-3e1166c6655a"
      },
      "source": [
        "# check datatype\n",
        "cvs_df.info()"
      ],
      "execution_count": 6,
      "outputs": [
        {
          "output_type": "stream",
          "text": [
            "<class 'pandas.core.frame.DataFrame'>\n",
            "Int64Index: 3390 entries, 0 to 3389\n",
            "Data columns (total 16 columns):\n",
            " #   Column           Non-Null Count  Dtype  \n",
            "---  ------           --------------  -----  \n",
            " 0   age              3390 non-null   int64  \n",
            " 1   education        3303 non-null   float64\n",
            " 2   sex              3390 non-null   object \n",
            " 3   is_smoking       3390 non-null   object \n",
            " 4   cigsPerDay       3368 non-null   float64\n",
            " 5   BPMeds           3346 non-null   float64\n",
            " 6   prevalentStroke  3390 non-null   int64  \n",
            " 7   prevalentHyp     3390 non-null   int64  \n",
            " 8   diabetes         3390 non-null   int64  \n",
            " 9   totChol          3352 non-null   float64\n",
            " 10  sysBP            3390 non-null   float64\n",
            " 11  diaBP            3390 non-null   float64\n",
            " 12  BMI              3376 non-null   float64\n",
            " 13  heartRate        3389 non-null   float64\n",
            " 14  glucose          3086 non-null   float64\n",
            " 15  TenYearCHD       3390 non-null   int64  \n",
            "dtypes: float64(9), int64(5), object(2)\n",
            "memory usage: 450.2+ KB\n"
          ],
          "name": "stdout"
        }
      ]
    },
    {
      "cell_type": "code",
      "metadata": {
        "id": "myVJT8eg6LTW"
      },
      "source": [
        "# fill nan values\n",
        "\n",
        "cvs_df['education'].fillna(cvs_df['education'].mode()[0], inplace=True)\n",
        "cvs_df['cigsPerDay'].fillna(cvs_df['cigsPerDay'].mode()[0], inplace=True)\n",
        "cvs_df['BPMeds'].fillna(cvs_df['BPMeds'].mode()[0], inplace=True)\n",
        "cvs_df['totChol'].fillna(cvs_df['totChol'].mode()[0], inplace=True)\n",
        "cvs_df['glucose'].fillna(cvs_df['glucose'].mode()[0], inplace=True)\n",
        "cvs_df['BMI'].fillna(cvs_df['BMI'].mode()[0], inplace=True)\n",
        "cvs_df['heartRate'].fillna(cvs_df['heartRate'].mode()[0], inplace=True)"
      ],
      "execution_count": 13,
      "outputs": []
    },
    {
      "cell_type": "code",
      "metadata": {
        "colab": {
          "base_uri": "https://localhost:8080/"
        },
        "id": "MRjruVlO6mti",
        "outputId": "f05d5bcd-dd00-4d41-d1c1-d9b5d1e654ba"
      },
      "source": [
        "cvs_df.isnull().sum()"
      ],
      "execution_count": 14,
      "outputs": [
        {
          "output_type": "execute_result",
          "data": {
            "text/plain": [
              "age                0\n",
              "education          0\n",
              "sex                0\n",
              "is_smoking         0\n",
              "cigsPerDay         0\n",
              "BPMeds             0\n",
              "prevalentStroke    0\n",
              "prevalentHyp       0\n",
              "diabetes           0\n",
              "totChol            0\n",
              "sysBP              0\n",
              "diaBP              0\n",
              "BMI                0\n",
              "heartRate          0\n",
              "glucose            0\n",
              "TenYearCHD         0\n",
              "dtype: int64"
            ]
          },
          "metadata": {
            "tags": []
          },
          "execution_count": 14
        }
      ]
    },
    {
      "cell_type": "markdown",
      "metadata": {
        "id": "jHGS8OWziCAQ"
      },
      "source": [
        "change categorical data from labels to numbers."
      ]
    },
    {
      "cell_type": "code",
      "metadata": {
        "id": "q5OPIcPehPo0"
      },
      "source": [
        "# 1 = Male, 0 = Female\n",
        "cvs_df['sex'] = cvs_df['sex'].apply(lambda x: 1 if x=='M' else 0)\n",
        "\n",
        "# 1 = Yes, 0 = No\n",
        "cvs_df['is_smoking'] = cvs_df['is_smoking'].apply(lambda x: 1 if x=='YES' else 0)"
      ],
      "execution_count": 15,
      "outputs": []
    },
    {
      "cell_type": "code",
      "metadata": {
        "id": "c66MTclIv5lW"
      },
      "source": [
        "X = cvs_df.drop(columns=['TenYearCHD']).values\n",
        "Y = cvs_df['TenYearCHD'].values"
      ],
      "execution_count": 16,
      "outputs": []
    },
    {
      "cell_type": "code",
      "metadata": {
        "colab": {
          "base_uri": "https://localhost:8080/"
        },
        "id": "vLca3SFD9YpV",
        "outputId": "5117194c-fac4-405c-908a-43082425d96c"
      },
      "source": [
        "X"
      ],
      "execution_count": 17,
      "outputs": [
        {
          "output_type": "execute_result",
          "data": {
            "text/plain": [
              "array([[64.  ,  2.  ,  0.  , ..., 22.91, 90.  , 80.  ],\n",
              "       [36.  ,  4.  ,  0.  , ..., 29.77, 72.  , 75.  ],\n",
              "       [46.  ,  1.  ,  0.  , ..., 20.35, 88.  , 94.  ],\n",
              "       ...,\n",
              "       [44.  ,  3.  ,  0.  , ..., 28.92, 73.  , 72.  ],\n",
              "       [60.  ,  1.  ,  0.  , ..., 23.01, 80.  , 85.  ],\n",
              "       [54.  ,  3.  ,  0.  , ..., 29.88, 79.  , 92.  ]])"
            ]
          },
          "metadata": {
            "tags": []
          },
          "execution_count": 17
        }
      ]
    },
    {
      "cell_type": "code",
      "metadata": {
        "colab": {
          "base_uri": "https://localhost:8080/"
        },
        "id": "Ct86zr_Y9ZrA",
        "outputId": "84a7608c-d2be-4758-e370-28dc19ed3c2b"
      },
      "source": [
        "Y"
      ],
      "execution_count": 18,
      "outputs": [
        {
          "output_type": "execute_result",
          "data": {
            "text/plain": [
              "array([1, 0, 0, ..., 1, 0, 0])"
            ]
          },
          "metadata": {
            "tags": []
          },
          "execution_count": 18
        }
      ]
    },
    {
      "cell_type": "code",
      "metadata": {
        "id": "tMyfVD9lrALZ"
      },
      "source": [
        "# perform split \n",
        "X_train, X_test, Y_train, Y_test = train_test_split(X, Y, test_size=0.2, random_state=0)"
      ],
      "execution_count": 19,
      "outputs": []
    },
    {
      "cell_type": "code",
      "metadata": {
        "id": "Go3levv0z_bp"
      },
      "source": [
        "# build model and train it\n",
        "naive_bayes_model = GaussianNB().fit(X_train,Y_train)"
      ],
      "execution_count": 20,
      "outputs": []
    },
    {
      "cell_type": "code",
      "metadata": {
        "colab": {
          "base_uri": "https://localhost:8080/"
        },
        "id": "cRJWLXo29inI",
        "outputId": "ab8372f8-1a64-43f2-d2a6-e2306618a0f1"
      },
      "source": [
        "# check pridicted probability\n",
        "train_pred_proba = naive_bayes_model.predict_proba(X_train)\n",
        "test_pred_proba = naive_bayes_model.predict_proba(X_test)\n",
        "\n",
        "# print probability\n",
        "print('Train Probability: ', train_pred_proba)\n",
        "print('Test Probability: ', test_pred_proba)"
      ],
      "execution_count": 21,
      "outputs": [
        {
          "output_type": "stream",
          "text": [
            "Train Probability:  [[9.89850726e-01 1.01492736e-02]\n",
            " [9.99424643e-01 5.75357425e-04]\n",
            " [7.40179971e-01 2.59820029e-01]\n",
            " ...\n",
            " [9.96360272e-01 3.63972811e-03]\n",
            " [9.98831463e-01 1.16853710e-03]\n",
            " [9.96611594e-01 3.38840644e-03]]\n",
            "Test Probability:  [[0.98122499 0.01877501]\n",
            " [0.99646201 0.00353799]\n",
            " [0.90857568 0.09142432]\n",
            " ...\n",
            " [0.99866484 0.00133516]\n",
            " [0.99623634 0.00376366]\n",
            " [0.99747076 0.00252924]]\n"
          ],
          "name": "stdout"
        }
      ]
    },
    {
      "cell_type": "code",
      "metadata": {
        "id": "YK74bbhpz_Y5"
      },
      "source": [
        "# predict values\n",
        "train_preds = naive_bayes_model.predict(X_train)\n",
        "test_preds = naive_bayes_model.predict(X_test)"
      ],
      "execution_count": 22,
      "outputs": []
    },
    {
      "cell_type": "code",
      "metadata": {
        "colab": {
          "base_uri": "https://localhost:8080/"
        },
        "id": "bz0ui8U89pRx",
        "outputId": "34bf4d5e-cad8-402a-8a32-8c7dce570704"
      },
      "source": [
        "# check class predictions\n",
        "print('Train predict: ', train_preds)\n",
        "print('Test predict: ', test_preds)"
      ],
      "execution_count": 23,
      "outputs": [
        {
          "output_type": "stream",
          "text": [
            "Train predict:  [0 0 0 ... 0 0 0]\n",
            "Test predict:  [0 0 0 0 0 0 0 0 0 0 0 0 0 0 0 0 0 0 0 1 1 0 0 0 0 0 1 0 0 0 0 0 0 0 0 0 0\n",
            " 0 0 1 1 0 0 0 0 0 1 0 0 0 0 0 0 0 0 0 0 0 0 0 0 0 0 0 0 0 0 0 0 0 0 0 0 0\n",
            " 0 0 0 0 0 0 0 1 0 0 0 0 0 0 0 0 0 0 0 0 1 0 1 0 0 0 0 0 0 1 0 0 0 0 0 0 0\n",
            " 0 0 0 0 0 0 0 0 0 0 0 0 0 1 0 0 0 0 0 0 0 0 0 0 0 1 0 0 1 0 0 0 1 0 0 0 0\n",
            " 0 1 0 0 0 0 0 0 0 0 0 0 0 0 0 0 1 0 0 1 0 0 0 0 0 0 0 0 0 0 0 0 0 0 0 0 0\n",
            " 0 1 0 0 0 0 0 0 0 1 0 0 0 0 0 0 0 0 0 0 0 0 0 0 0 0 0 0 0 0 0 0 0 0 0 0 1\n",
            " 0 0 0 0 0 0 0 0 0 0 0 1 0 0 0 0 1 0 0 0 0 0 0 0 0 1 0 0 0 0 0 0 0 0 0 0 0\n",
            " 0 0 0 1 0 0 0 0 0 0 0 0 0 0 0 0 0 0 0 0 0 0 0 0 0 0 0 0 0 0 0 0 1 0 0 0 0\n",
            " 1 0 0 0 0 0 0 0 0 0 1 0 0 0 0 0 0 0 0 0 0 0 0 0 0 0 0 0 0 1 0 0 0 0 0 0 0\n",
            " 1 0 0 0 1 0 0 0 0 0 0 0 0 0 0 0 0 0 0 0 0 1 0 0 0 0 0 0 0 0 0 0 0 1 0 0 0\n",
            " 0 0 0 0 0 0 0 0 0 0 0 1 0 0 1 0 0 1 0 0 0 0 0 0 0 0 0 0 0 0 0 0 0 0 0 1 0\n",
            " 0 0 0 0 0 0 0 0 0 1 0 0 0 0 0 0 0 0 0 0 0 0 0 0 0 0 0 0 0 0 0 0 0 0 1 0 0\n",
            " 0 0 0 0 0 1 0 0 0 1 0 0 0 0 0 0 0 0 0 0 0 0 0 0 0 0 0 0 0 0 0 0 0 0 1 0 1\n",
            " 0 0 0 0 1 0 0 0 0 0 0 0 0 0 0 0 0 0 0 1 0 0 0 1 0 0 0 0 0 1 0 0 0 0 0 0 0\n",
            " 0 0 0 0 0 0 0 1 0 0 0 0 1 0 0 0 0 0 0 0 0 0 1 0 0 0 0 0 0 0 0 0 0 0 0 1 0\n",
            " 0 0 0 0 0 1 0 1 0 0 0 0 1 0 0 1 0 0 0 1 0 0 0 0 0 0 0 0 0 0 0 0 0 0 0 0 0\n",
            " 0 0 0 0 0 1 0 0 1 0 0 0 0 0 0 0 0 0 0 0 0 0 0 0 0 0 1 0 0 0 0 0 0 0 0 0 0\n",
            " 0 1 0 0 0 0 0 0 1 1 0 0 1 0 0 0 0 0 1 0 0 0 0 1 0 1 0 0 0 0 0 0 0 0 0 1 0\n",
            " 1 1 0 0 0 0 0 0 0 0 0 0]\n"
          ],
          "name": "stdout"
        }
      ]
    },
    {
      "cell_type": "code",
      "metadata": {
        "id": "Rx_wE0Q_z_V6",
        "colab": {
          "base_uri": "https://localhost:8080/"
        },
        "outputId": "e58d4da2-5124-422e-99b9-d09aca373eab"
      },
      "source": [
        "print(confusion_matrix(Y_train, train_preds))\n",
        "print(confusion_matrix(Y_test, test_preds))"
      ],
      "execution_count": 24,
      "outputs": [
        {
          "output_type": "stream",
          "text": [
            "[[2159  146]\n",
            " [ 319   88]]\n",
            "[[529  45]\n",
            " [ 81  23]]\n"
          ],
          "name": "stdout"
        }
      ]
    },
    {
      "cell_type": "code",
      "metadata": {
        "id": "3rBQftA4FlH9",
        "colab": {
          "base_uri": "https://localhost:8080/",
          "height": 350
        },
        "outputId": "d00fcc94-9326-4dcd-d96b-857993e820f6"
      },
      "source": [
        "# Get the confusion matrix for train \n",
        "labels = ['No Risk', 'At Risk']\n",
        "cm = confusion_matrix(Y_train, train_preds)\n",
        "print(cm)\n",
        "ax= plt.subplot()\n",
        "sns.heatmap(cm, annot=True, ax = ax) #annot=True to annotate cells\n",
        "# labels, title and ticks\n",
        "ax.set_xlabel('Predicted labels')\n",
        "ax.set_ylabel('True labels')\n",
        "ax.set_title('Confusion Matrix')\n",
        "ax.xaxis.set_ticklabels(labels)\n",
        "ax.yaxis.set_ticklabels(labels)"
      ],
      "execution_count": 25,
      "outputs": [
        {
          "output_type": "stream",
          "text": [
            "[[2159  146]\n",
            " [ 319   88]]\n"
          ],
          "name": "stdout"
        },
        {
          "output_type": "execute_result",
          "data": {
            "text/plain": [
              "[Text(0, 0.5, 'No Risk'), Text(0, 1.5, 'At Risk')]"
            ]
          },
          "metadata": {
            "tags": []
          },
          "execution_count": 25
        },
        {
          "output_type": "display_data",
          "data": {
            "image/png": "[encoded data removed]",
            "text/plain": [
              "<Figure size 432x288 with 2 Axes>"
            ]
          },
          "metadata": {
            "tags": [],
            "needs_background": "light"
          }
        }
      ]
    },
    {
      "cell_type": "code",
      "metadata": {
        "id": "MHBWH6OTGRdG",
        "colab": {
          "base_uri": "https://localhost:8080/",
          "height": 350
        },
        "outputId": "62e2bbc4-6641-410c-8233-e946e8812087"
      },
      "source": [
        "# Get the confusion matrix for test \n",
        "labels = ['No Risk', 'At Risk']\n",
        "cm = confusion_matrix(Y_test, test_preds)\n",
        "print(cm)\n",
        "ax= plt.subplot()\n",
        "sns.heatmap(cm, annot=True, ax = ax) #annot=True to annotate cells\n",
        "# labels, title and ticks\n",
        "ax.set_xlabel('Predicted labels')\n",
        "ax.set_ylabel('True labels')\n",
        "ax.set_title('Confusion Matrix')\n",
        "ax.xaxis.set_ticklabels(labels)\n",
        "ax.yaxis.set_ticklabels(labels)"
      ],
      "execution_count": 26,
      "outputs": [
        {
          "output_type": "stream",
          "text": [
            "[[529  45]\n",
            " [ 81  23]]\n"
          ],
          "name": "stdout"
        },
        {
          "output_type": "execute_result",
          "data": {
            "text/plain": [
              "[Text(0, 0.5, 'No Risk'), Text(0, 1.5, 'At Risk')]"
            ]
          },
          "metadata": {
            "tags": []
          },
          "execution_count": 26
        },
        {
          "output_type": "display_data",
          "data": {
            "image/png": "[encoded data removed]",
            "text/plain": [
              "<Figure size 432x288 with 2 Axes>"
            ]
          },
          "metadata": {
            "tags": [],
            "needs_background": "light"
          }
        }
      ]
    },
    {
      "cell_type": "code",
      "metadata": {
        "id": "BFPCahnPz_TD",
        "colab": {
          "base_uri": "https://localhost:8080/"
        },
        "outputId": "ab1c00a3-207e-4a37-b81d-551266ea8dfb"
      },
      "source": [
        "# print acurracy and roc_auc score\n",
        "print('ROCAUC score:', roc_auc_score(Y_test, test_preds))\n",
        "print('Accuracy score:', accuracy_score(Y_test, test_preds))\n",
        "\n",
        "# Print the classification report for train and test\n",
        "print(classification_report(Y_train, train_preds))\n",
        "print(\"\\n\")\n",
        "print(classification_report(Y_test, test_preds))"
      ],
      "execution_count": 27,
      "outputs": [
        {
          "output_type": "stream",
          "text": [
            "ROCAUC score: 0.5713783168051462\n",
            "Accuracy score: 0.8141592920353983\n",
            "              precision    recall  f1-score   support\n",
            "\n",
            "           0       0.87      0.94      0.90      2305\n",
            "           1       0.38      0.22      0.27       407\n",
            "\n",
            "    accuracy                           0.83      2712\n",
            "   macro avg       0.62      0.58      0.59      2712\n",
            "weighted avg       0.80      0.83      0.81      2712\n",
            "\n",
            "\n",
            "\n",
            "              precision    recall  f1-score   support\n",
            "\n",
            "           0       0.87      0.92      0.89       574\n",
            "           1       0.34      0.22      0.27       104\n",
            "\n",
            "    accuracy                           0.81       678\n",
            "   macro avg       0.60      0.57      0.58       678\n",
            "weighted avg       0.79      0.81      0.80       678\n",
            "\n"
          ],
          "name": "stdout"
        }
      ]
    },
    {
      "cell_type": "markdown",
      "metadata": {
        "id": "cBKBvSrSL5pU"
      },
      "source": [
        "Since Accuracy is not good measure we will check ROCAUC score"
      ]
    },
    {
      "cell_type": "markdown",
      "metadata": {
        "id": "Xg-UkcP4uQE4"
      },
      "source": [
        "## **Knn**"
      ]
    },
    {
      "cell_type": "markdown",
      "metadata": {
        "id": "qU_mSbN7LDzn"
      },
      "source": [
        "Let's build knn to check how much score improves from naive bayes classifier."
      ]
    },
    {
      "cell_type": "code",
      "metadata": {
        "colab": {
          "base_uri": "https://localhost:8080/"
        },
        "id": "4QghBm659yYU",
        "outputId": "43fd118f-472c-4af1-b895-cbcaf70a1fca"
      },
      "source": [
        "pca = PCA(n_components=5)\n",
        "pca.fit(X)"
      ],
      "execution_count": 28,
      "outputs": [
        {
          "output_type": "execute_result",
          "data": {
            "text/plain": [
              "PCA(copy=True, iterated_power='auto', n_components=5, random_state=None,\n",
              "    svd_solver='auto', tol=0.0, whiten=False)"
            ]
          },
          "metadata": {
            "tags": []
          },
          "execution_count": 28
        }
      ]
    },
    {
      "cell_type": "code",
      "metadata": {
        "id": "32lxX3wz90my"
      },
      "source": [
        "X_pca = pca.transform(X)"
      ],
      "execution_count": 29,
      "outputs": []
    },
    {
      "cell_type": "code",
      "metadata": {
        "colab": {
          "base_uri": "https://localhost:8080/"
        },
        "id": "UgeA11TB92Wp",
        "outputId": "2625f0af-9209-41a9-a7c8-74c7be7dc30b"
      },
      "source": [
        "X_pca"
      ],
      "execution_count": 30,
      "outputs": [
        {
          "output_type": "execute_result",
          "data": {
            "text/plain": [
              "array([[-12.39829734,  16.42190189, -11.87650715,   1.94779802,\n",
              "         13.07076899],\n",
              "       [-20.00457999,  28.91368685, -28.39478967,  -6.81743548,\n",
              "         -1.23576845],\n",
              "       [ 10.36902808,  -9.69303833,  22.6246395 ,   9.26679909,\n",
              "          9.68102534],\n",
              "       ...,\n",
              "       [118.89181078,   9.39473064, -27.24096983,  -4.5095242 ,\n",
              "         -3.84452576],\n",
              "       [-38.35848704,  42.70762031, -24.26851965,  -5.46549212,\n",
              "          4.7265479 ],\n",
              "       [ 49.60041077,  -8.25866958,  16.79551834,  -5.49002896,\n",
              "          8.53729838]])"
            ]
          },
          "metadata": {
            "tags": []
          },
          "execution_count": 30
        }
      ]
    },
    {
      "cell_type": "code",
      "metadata": {
        "colab": {
          "base_uri": "https://localhost:8080/"
        },
        "id": "3IEWCcpP94Tg",
        "outputId": "8cf20581-16b6-407a-d9b4-2b071049758d"
      },
      "source": [
        "pca.explained_variance_ratio_"
      ],
      "execution_count": 31,
      "outputs": [
        {
          "output_type": "execute_result",
          "data": {
            "text/plain": [
              "array([0.57768366, 0.17551859, 0.13614209, 0.04306252, 0.03474421])"
            ]
          },
          "metadata": {
            "tags": []
          },
          "execution_count": 31
        }
      ]
    },
    {
      "cell_type": "markdown",
      "metadata": {
        "id": "flM_DmRp1EE1"
      },
      "source": [
        "We can see that after 3rd component explained variance ratio decrease drastically so, we will use first 5 components for knn model.\n",
        "Now lets find out optimal number of neighbours."
      ]
    },
    {
      "cell_type": "code",
      "metadata": {
        "id": "6ipVHVtV-C6e"
      },
      "source": [
        "# perform test train split on components\n",
        "X_train_comp, X_test_comp, Y_train, Y_test = train_test_split(X_pca, Y, test_size=0.2, random_state=0)"
      ],
      "execution_count": 32,
      "outputs": []
    },
    {
      "cell_type": "code",
      "metadata": {
        "colab": {
          "base_uri": "https://localhost:8080/"
        },
        "id": "-ZiG4q-X-Dsm",
        "outputId": "06c6c5b6-3945-4d97-a8ee-10b174a92a84"
      },
      "source": [
        "print(X.shape, Y.shape)\n",
        "print(X_train_comp.shape)\n",
        "print(X_test_comp.shape)"
      ],
      "execution_count": 33,
      "outputs": [
        {
          "output_type": "stream",
          "text": [
            "(3390, 15) (3390,)\n",
            "(2712, 5)\n",
            "(678, 5)\n"
          ],
          "name": "stdout"
        }
      ]
    },
    {
      "cell_type": "code",
      "metadata": {
        "id": "CrWKqZHdz_hw"
      },
      "source": [
        "# calculate accuracy score for first 10 neighbors\n",
        "# Setup arrays to store training and test accuracies\n",
        "neighbors = 10\n",
        "train_accuracy_comp = np.empty(neighbors)\n",
        "test_accuracy_comp = np.empty(neighbors)\n",
        "\n",
        "for i in range(1, neighbors + 1):\n",
        "    # Setup a knn classifier with k neighbors\n",
        "    knn = KNeighborsClassifier(n_neighbors=i)\n",
        "    # Fit the model\n",
        "    knn.fit(X_train_comp, Y_train)\n",
        "    # Compute accuracy on the training set\n",
        "    train_accuracy_comp[i - 1] = knn.score(X_train_comp, Y_train)\n",
        "    # Compute accuracy on the test set\n",
        "    test_accuracy_comp[i - 1] = knn.score(X_test_comp, Y_test) "
      ],
      "execution_count": 34,
      "outputs": []
    },
    {
      "cell_type": "code",
      "metadata": {
        "colab": {
          "base_uri": "https://localhost:8080/"
        },
        "id": "0l96Xt1A-TWh",
        "outputId": "1bfe4a8c-ec2d-4c3b-a28f-1334a1d76363"
      },
      "source": [
        "# print accuracy\n",
        "print(\"Train Accuracy: \", train_accuracy_comp)\n",
        "print(\"Test Accuracy: \", test_accuracy_comp)"
      ],
      "execution_count": 35,
      "outputs": [
        {
          "output_type": "stream",
          "text": [
            "Train Accuracy:  [1.         0.88016224 0.88126844 0.86651917 0.86762537 0.85914454\n",
            " 0.86541298 0.85914454 0.85951327 0.85619469]\n",
            "Test Accuracy:  [0.7699115  0.83333333 0.7979351  0.83038348 0.8259587  0.84070796\n",
            " 0.83923304 0.84513274 0.84218289 0.84660767]\n"
          ],
          "name": "stdout"
        }
      ]
    },
    {
      "cell_type": "markdown",
      "metadata": {
        "id": "WJ5jRHFAEKJq"
      },
      "source": [
        "Let's check accuracy score on original dataset to see the difference."
      ]
    },
    {
      "cell_type": "code",
      "metadata": {
        "id": "B5XSttiP-UHg"
      },
      "source": [
        "# perform split \n",
        "X_train, X_test, Y_train, Y_test = train_test_split(X, Y, test_size=0.2, random_state=0)"
      ],
      "execution_count": 36,
      "outputs": []
    },
    {
      "cell_type": "code",
      "metadata": {
        "colab": {
          "base_uri": "https://localhost:8080/"
        },
        "id": "1Ew-GEi8-gQz",
        "outputId": "3c36555e-fe9a-4dc2-d4a3-65388c50515b"
      },
      "source": [
        "print(X.shape, Y.shape)\n",
        "print(X_train.shape)\n",
        "print(X_test.shape)"
      ],
      "execution_count": 37,
      "outputs": [
        {
          "output_type": "stream",
          "text": [
            "(3390, 15) (3390,)\n",
            "(2712, 15)\n",
            "(678, 15)\n"
          ],
          "name": "stdout"
        }
      ]
    },
    {
      "cell_type": "code",
      "metadata": {
        "id": "BXELAKAT-rmi"
      },
      "source": [
        "# calculate accuracy score for first 10 neighbors\n",
        "# Setup arrays to store training and test accuracies\n",
        "neighbors = 10\n",
        "train_accuracy = np.empty(neighbors)\n",
        "test_accuracy = np.empty(neighbors)\n",
        "\n",
        "for i in range(1, neighbors + 1):\n",
        "    # Setup a knn classifier with k neighbors\n",
        "    knn = KNeighborsClassifier(n_neighbors=i)\n",
        "    # Fit the model\n",
        "    knn.fit(X_train, Y_train)\n",
        "    # Compute accuracy on the training set\n",
        "    train_accuracy[i - 1] = knn.score(X_train, Y_train)\n",
        "    # Compute accuracy on the test set\n",
        "    test_accuracy[i - 1] = knn.score(X_test, Y_test) "
      ],
      "execution_count": 38,
      "outputs": []
    },
    {
      "cell_type": "code",
      "metadata": {
        "id": "qjNp81sQEb5T",
        "colab": {
          "base_uri": "https://localhost:8080/"
        },
        "outputId": "979cfc0e-95c2-4970-c221-18fee5acb1f9"
      },
      "source": [
        "# print accuracy\n",
        "print(\"Train Accuracy: \", train_accuracy)\n",
        "print(\"Test Accuracy: \", test_accuracy)"
      ],
      "execution_count": 39,
      "outputs": [
        {
          "output_type": "stream",
          "text": [
            "Train Accuracy:  [1.         0.8820059  0.88974926 0.86836283 0.87131268 0.86246313\n",
            " 0.86651917 0.85951327 0.86172566 0.85803835]\n",
            "Test Accuracy:  [0.77433628 0.83185841 0.81268437 0.83480826 0.82300885 0.83333333\n",
            " 0.83038348 0.83923304 0.83923304 0.84365782]\n"
          ],
          "name": "stdout"
        }
      ]
    },
    {
      "cell_type": "code",
      "metadata": {
        "colab": {
          "base_uri": "https://localhost:8080/"
        },
        "id": "TRnaXQ04-znI",
        "outputId": "79374232-33f8-493c-9e45-a97bd9023e4a"
      },
      "source": [
        "# print the difference\n",
        "train_accuracy_diff = train_accuracy - train_accuracy_comp\n",
        "test_accuracy_diff = test_accuracy - test_accuracy_comp\n",
        "print('Difference on accuaracy:')\n",
        "print(\"Train : \", train_accuracy_diff)\n",
        "print(\"Test : \", test_accuracy_diff)"
      ],
      "execution_count": 40,
      "outputs": [
        {
          "output_type": "stream",
          "text": [
            "Difference on accuaracy:\n",
            "Train :  [0.         0.00184366 0.00848083 0.00184366 0.00368732 0.00331858\n",
            " 0.00110619 0.00036873 0.00221239 0.00184366]\n",
            "Test :  [ 0.00442478 -0.00147493  0.01474926  0.00442478 -0.00294985 -0.00737463\n",
            " -0.00884956 -0.00589971 -0.00294985 -0.00294985]\n"
          ],
          "name": "stdout"
        }
      ]
    },
    {
      "cell_type": "markdown",
      "metadata": {
        "id": "BAA5x4zOFHup"
      },
      "source": [
        "We can see that difference is very small for each neighbour so, we can use first 5 Principal components for analysis  "
      ]
    },
    {
      "cell_type": "code",
      "metadata": {
        "id": "mNwaJJwmz_ee",
        "colab": {
          "base_uri": "https://localhost:8080/",
          "height": 295
        },
        "outputId": "ba126278-ccef-4529-e395-abee017b581c"
      },
      "source": [
        "# Generate plot\n",
        "plt.title('k-NN Score with varying number of neighbors')\n",
        "x_axis = [i for i in range(1,11)]\n",
        "plt.plot(x_axis, test_accuracy, label='Testing Accuracy')\n",
        "plt.plot(x_axis, train_accuracy, label='Training accuracy')\n",
        "plt.legend()\n",
        "plt.xlabel('Number of neighbors')\n",
        "plt.ylabel('Accuracy')\n",
        "plt.show()"
      ],
      "execution_count": 41,
      "outputs": [
        {
          "output_type": "display_data",
          "data": {
            "image/png": "[encoded data removed]",
            "text/plain": [
              "<Figure size 432x288 with 1 Axes>"
            ]
          },
          "metadata": {
            "tags": [],
            "needs_background": "light"
          }
        }
      ]
    },
    {
      "cell_type": "markdown",
      "metadata": {
        "id": "_ZvMfHd053F_"
      },
      "source": [
        "Webcan see that test score is increasing as number of neighbours increases.\n",
        "\n",
        "Let's try to find best parameter for knn."
      ]
    },
    {
      "cell_type": "code",
      "metadata": {
        "id": "L_NHVuK69kY1"
      },
      "source": [
        "param_grid = {'n_neighbors':np.arange(1,50)}"
      ],
      "execution_count": 42,
      "outputs": []
    },
    {
      "cell_type": "code",
      "metadata": {
        "id": "yD5oQtFC924d",
        "colab": {
          "base_uri": "https://localhost:8080/"
        },
        "outputId": "c58e0196-78e6-4423-ca85-ed267c4e4860"
      },
      "source": [
        "knn = KNeighborsClassifier()\n",
        "knn_cv= GridSearchCV(knn,param_grid,cv=5)\n",
        "knn_cv.fit(X,Y)"
      ],
      "execution_count": 43,
      "outputs": [
        {
          "output_type": "execute_result",
          "data": {
            "text/plain": [
              "GridSearchCV(cv=5, error_score=nan,\n",
              "             estimator=KNeighborsClassifier(algorithm='auto', leaf_size=30,\n",
              "                                            metric='minkowski',\n",
              "                                            metric_params=None, n_jobs=None,\n",
              "                                            n_neighbors=5, p=2,\n",
              "                                            weights='uniform'),\n",
              "             iid='deprecated', n_jobs=None,\n",
              "             param_grid={'n_neighbors': array([ 1,  2,  3,  4,  5,  6,  7,  8,  9, 10, 11, 12, 13, 14, 15, 16, 17,\n",
              "       18, 19, 20, 21, 22, 23, 24, 25, 26, 27, 28, 29, 30, 31, 32, 33, 34,\n",
              "       35, 36, 37, 38, 39, 40, 41, 42, 43, 44, 45, 46, 47, 48, 49])},\n",
              "             pre_dispatch='2*n_jobs', refit=True, return_train_score=False,\n",
              "             scoring=None, verbose=0)"
            ]
          },
          "metadata": {
            "tags": []
          },
          "execution_count": 43
        }
      ]
    },
    {
      "cell_type": "code",
      "metadata": {
        "id": "xWu-dBVC-Bkm",
        "colab": {
          "base_uri": "https://localhost:8080/"
        },
        "outputId": "2a863fe8-8883-4a47-dab4-b7ac3a101443"
      },
      "source": [
        "knn_cv.best_score_"
      ],
      "execution_count": 44,
      "outputs": [
        {
          "output_type": "execute_result",
          "data": {
            "text/plain": [
              "0.8510324483775811"
            ]
          },
          "metadata": {
            "tags": []
          },
          "execution_count": 44
        }
      ]
    },
    {
      "cell_type": "code",
      "metadata": {
        "id": "-utS5co2-FZv",
        "colab": {
          "base_uri": "https://localhost:8080/"
        },
        "outputId": "96c06c28-0985-41ff-92e9-4335511ac925"
      },
      "source": [
        "knn_cv.best_params_"
      ],
      "execution_count": 45,
      "outputs": [
        {
          "output_type": "execute_result",
          "data": {
            "text/plain": [
              "{'n_neighbors': 10}"
            ]
          },
          "metadata": {
            "tags": []
          },
          "execution_count": 45
        }
      ]
    },
    {
      "cell_type": "code",
      "metadata": {
        "id": "szFYuctj-M9a",
        "colab": {
          "base_uri": "https://localhost:8080/",
          "height": 313
        },
        "outputId": "3749a488-c19c-4f7c-9f0f-73b22cb2695e"
      },
      "source": [
        "plot_roc_curve(knn_cv,X,Y)\n",
        "plt.title(\"Roc Auc Curve for kNN - \" + str(knn_cv.best_params_['n_neighbors']))"
      ],
      "execution_count": 46,
      "outputs": [
        {
          "output_type": "execute_result",
          "data": {
            "text/plain": [
              "Text(0.5, 1.0, 'Roc Auc Curve for kNN - 10')"
            ]
          },
          "metadata": {
            "tags": []
          },
          "execution_count": 46
        },
        {
          "output_type": "display_data",
          "data": {
            "image/png": "[encoded data removed]",
            "text/plain": [
              "<Figure size 432x288 with 1 Axes>"
            ]
          },
          "metadata": {
            "tags": [],
            "needs_background": "light"
          }
        }
      ]
    },
    {
      "cell_type": "markdown",
      "metadata": {
        "id": "cpdpZqTrHS6u"
      },
      "source": [
        "# **Logistic Regression**"
      ]
    },
    {
      "cell_type": "code",
      "metadata": {
        "trusted": true,
        "_uuid": "baa9151be6db67ebb0f5eba1f8e57deb385c5fd4",
        "id": "Kya7fC3xHmeZ",
        "colab": {
          "base_uri": "https://localhost:8080/"
        },
        "outputId": "ca25e07c-601d-4c96-e246-005fb4f68775"
      },
      "source": [
        "# create and train logistic regression model\n",
        "logistic_regression_model = LogisticRegression(fit_intercept=True, max_iter=10000)\n",
        "logistic_regression_model.fit(X_train, Y_train)"
      ],
      "execution_count": 47,
      "outputs": [
        {
          "output_type": "execute_result",
          "data": {
            "text/plain": [
              "LogisticRegression(C=1.0, class_weight=None, dual=False, fit_intercept=True,\n",
              "                   intercept_scaling=1, l1_ratio=None, max_iter=10000,\n",
              "                   multi_class='auto', n_jobs=None, penalty='l2',\n",
              "                   random_state=None, solver='lbfgs', tol=0.0001, verbose=0,\n",
              "                   warm_start=False)"
            ]
          },
          "metadata": {
            "tags": []
          },
          "execution_count": 47
        }
      ]
    },
    {
      "cell_type": "code",
      "metadata": {
        "id": "pqZg8WvL0lMs",
        "colab": {
          "base_uri": "https://localhost:8080/"
        },
        "outputId": "3fa5b327-73b7-4ab1-a23b-efe5d030c2b6"
      },
      "source": [
        "# Get the model coefficients\n",
        "logistic_regression_model.coef_"
      ],
      "execution_count": 48,
      "outputs": [
        {
          "output_type": "execute_result",
          "data": {
            "text/plain": [
              "array([[ 0.06385704, -0.02230316,  0.        ,  0.        ,  0.03110369,\n",
              "        -0.21863703,  1.01841481,  0.03606141,  0.11010395,  0.00270975,\n",
              "         0.017228  ,  0.00206955, -0.007295  , -0.00847335,  0.00948629]])"
            ]
          },
          "metadata": {
            "tags": []
          },
          "execution_count": 48
        }
      ]
    },
    {
      "cell_type": "code",
      "metadata": {
        "id": "7nFfOzPZ071w"
      },
      "source": [
        "# Get the predicted probabilities\n",
        "train_preds = logistic_regression_model.predict(X_train)\n",
        "test_preds = logistic_regression_model.predict(X_test)"
      ],
      "execution_count": 49,
      "outputs": []
    },
    {
      "cell_type": "code",
      "metadata": {
        "trusted": true,
        "_uuid": "7733588210ee7cf06bc152c4b84d5c077a0b8ce6",
        "id": "6-hUcMN0HmeZ",
        "colab": {
          "base_uri": "https://localhost:8080/"
        },
        "outputId": "203269d7-cd11-4215-89d4-4ac721a21ccf"
      },
      "source": [
        "# Get the accuracy scores\n",
        "train_accuracy = accuracy_score(train_preds,Y_train)\n",
        "test_accuracy = accuracy_score(test_preds,Y_test)\n",
        "\n",
        "print(\"The accuracy on train data is \", train_accuracy)\n",
        "print(\"The accuracy on test data is \", test_accuracy)"
      ],
      "execution_count": 50,
      "outputs": [
        {
          "output_type": "stream",
          "text": [
            "The accuracy on train data is  0.8584070796460177\n",
            "The accuracy on test data is  0.8466076696165191\n"
          ],
          "name": "stdout"
        }
      ]
    },
    {
      "cell_type": "code",
      "metadata": {
        "id": "xHbS-gxF4ZwO",
        "colab": {
          "base_uri": "https://localhost:8080/",
          "height": 350
        },
        "outputId": "c009e1cc-d036-45c8-ac08-4e78e536eec9"
      },
      "source": [
        "# Get the confusion matrix for train\n",
        "labels = ['No Risk', 'At Risk']\n",
        "cm = confusion_matrix(Y_train, train_preds)\n",
        "print(cm)\n",
        "ax= plt.subplot()\n",
        "sns.heatmap(cm, annot=True, ax = ax) #annot=True to annotate cells\n",
        "# labels, title and ticks\n",
        "ax.set_xlabel('Predicted labels')\n",
        "ax.set_ylabel('True labels')\n",
        "ax.set_title('Confusion Matrix for Logistic Regression Test predict')\n",
        "ax.xaxis.set_ticklabels(labels)\n",
        "ax.yaxis.set_ticklabels(labels)"
      ],
      "execution_count": 51,
      "outputs": [
        {
          "output_type": "stream",
          "text": [
            "[[2291   14]\n",
            " [ 370   37]]\n"
          ],
          "name": "stdout"
        },
        {
          "output_type": "execute_result",
          "data": {
            "text/plain": [
              "[Text(0, 0.5, 'No Risk'), Text(0, 1.5, 'At Risk')]"
            ]
          },
          "metadata": {
            "tags": []
          },
          "execution_count": 51
        },
        {
          "output_type": "display_data",
          "data": {
            "image/png": "[encoded data removed]",
            "text/plain": [
              "<Figure size 432x288 with 2 Axes>"
            ]
          },
          "metadata": {
            "tags": [],
            "needs_background": "light"
          }
        }
      ]
    },
    {
      "cell_type": "code",
      "metadata": {
        "id": "J1lVVlEX27nM",
        "colab": {
          "base_uri": "https://localhost:8080/",
          "height": 350
        },
        "outputId": "c5267bb6-68a4-4e0d-f960-5d6367b98995"
      },
      "source": [
        "# Get the confusion matrix for test\n",
        "labels = ['No Risk', 'At Risk']\n",
        "cm = confusion_matrix(Y_test, test_preds)\n",
        "print(cm)\n",
        "ax= plt.subplot()\n",
        "sns.heatmap(cm, annot=True, ax = ax); #annot=True to annotate cells\n",
        "# labels, title and ticks\n",
        "ax.set_xlabel('Predicted labels')\n",
        "ax.set_ylabel('True labels')\n",
        "ax.set_title('Confusion Matrix')\n",
        "ax.xaxis.set_ticklabels(labels)\n",
        "ax.yaxis.set_ticklabels(labels)"
      ],
      "execution_count": 52,
      "outputs": [
        {
          "output_type": "stream",
          "text": [
            "[[567   7]\n",
            " [ 97   7]]\n"
          ],
          "name": "stdout"
        },
        {
          "output_type": "execute_result",
          "data": {
            "text/plain": [
              "[Text(0, 0.5, 'No Risk'), Text(0, 1.5, 'At Risk')]"
            ]
          },
          "metadata": {
            "tags": []
          },
          "execution_count": 52
        },
        {
          "output_type": "display_data",
          "data": {
            "image/png": "[encoded data removed]",
            "text/plain": [
              "<Figure size 432x288 with 2 Axes>"
            ]
          },
          "metadata": {
            "tags": [],
            "needs_background": "light"
          }
        }
      ]
    },
    {
      "cell_type": "code",
      "metadata": {
        "id": "E6Sd3pkiOJgE",
        "colab": {
          "base_uri": "https://localhost:8080/"
        },
        "outputId": "57c6ebb1-88d1-44e1-c65a-a058ff03f3cc"
      },
      "source": [
        "# print acurracy and roc_auc score\n",
        "print('ROCAUC score:', roc_auc_score(Y_test, test_preds))\n",
        "print('Accuracy score:', accuracy_score(Y_test, test_preds))\n",
        "\n",
        "# Print the classification report for train and test\n",
        "print(classification_report(Y_train, train_preds))\n",
        "print(\"\\n\")\n",
        "print(classification_report(Y_test, test_preds))"
      ],
      "execution_count": 53,
      "outputs": [
        {
          "output_type": "stream",
          "text": [
            "ROCAUC score: 0.5275562851782364\n",
            "Accuracy score: 0.8466076696165191\n",
            "              precision    recall  f1-score   support\n",
            "\n",
            "           0       0.86      0.99      0.92      2305\n",
            "           1       0.73      0.09      0.16       407\n",
            "\n",
            "    accuracy                           0.86      2712\n",
            "   macro avg       0.79      0.54      0.54      2712\n",
            "weighted avg       0.84      0.86      0.81      2712\n",
            "\n",
            "\n",
            "\n",
            "              precision    recall  f1-score   support\n",
            "\n",
            "           0       0.85      0.99      0.92       574\n",
            "           1       0.50      0.07      0.12       104\n",
            "\n",
            "    accuracy                           0.85       678\n",
            "   macro avg       0.68      0.53      0.52       678\n",
            "weighted avg       0.80      0.85      0.79       678\n",
            "\n"
          ],
          "name": "stdout"
        }
      ]
    },
    {
      "cell_type": "markdown",
      "metadata": {
        "id": "4_Zob4EyPALq"
      },
      "source": [
        "Even Logistic Regression is not performing better, This is due to imbalance dataset.\n",
        "We have large number of record that are not at risk and less number of records that are at risk of future coronary heart disease.\n",
        "\n",
        "Let's Resample the dataset to over come this imbalance.\n",
        "We will apply SMOTE (Synthetic Minority Oversampling Technique) to resample the data. It works by randomly picking a point from the minority class and computing the k-nearest neighbors for this point. The synthetic points are added between the chosen point and its neighbors"
      ]
    },
    {
      "cell_type": "code",
      "metadata": {
        "id": "u71W8d63OnJ6"
      },
      "source": [
        "smote = SMOTE()\n",
        "# fit predictor and target variable\n",
        "X_balanced, Y_balanced = smote.fit_resample(cvs_df.iloc[:,0:-1], cvs_df['TenYearCHD'])"
      ],
      "execution_count": 54,
      "outputs": []
    },
    {
      "cell_type": "code",
      "metadata": {
        "id": "1XjjQJCLQcXM",
        "colab": {
          "base_uri": "https://localhost:8080/"
        },
        "outputId": "87842220-9a70-4a16-f872-7360e725247f"
      },
      "source": [
        "print('Original dataset shape', cvs_df.shape)\n",
        "print('Resampled dataset shape', X_balanced.shape)"
      ],
      "execution_count": 55,
      "outputs": [
        {
          "output_type": "stream",
          "text": [
            "Original dataset shape (3390, 16)\n",
            "Resampled dataset shape (5758, 15)\n"
          ],
          "name": "stdout"
        }
      ]
    },
    {
      "cell_type": "code",
      "metadata": {
        "id": "zuaa7zZljbB2",
        "colab": {
          "base_uri": "https://localhost:8080/",
          "height": 268
        },
        "outputId": "25a972a7-274f-490d-8044-0a3220fa9202"
      },
      "source": [
        "# visualizing the target variable after resample\n",
        "g = sns.countplot(Y_balanced)\n",
        "g.set_xticklabels(['No Heart Disease','Heart Disease'])\n",
        "plt.show()"
      ],
      "execution_count": 56,
      "outputs": [
        {
          "output_type": "display_data",
          "data": {
            "image/png": "[encoded data removed]",
            "text/plain": [
              "<Figure size 432x288 with 1 Axes>"
            ]
          },
          "metadata": {
            "tags": [],
            "needs_background": "light"
          }
        }
      ]
    },
    {
      "cell_type": "markdown",
      "metadata": {
        "id": "RSYy_IqAjz29"
      },
      "source": [
        "Now we have balanced dataset so we can apply logistic regression on balanced dataset"
      ]
    },
    {
      "cell_type": "code",
      "metadata": {
        "id": "w2p7hoC7kVpP"
      },
      "source": [
        "# split the data\n",
        "X_train, X_test, Y_train, Y_test = train_test_split(X_balanced, Y_balanced, test_size=0.2, random_state=0)"
      ],
      "execution_count": 57,
      "outputs": []
    },
    {
      "cell_type": "code",
      "metadata": {
        "id": "M1xFDEPPjtUr",
        "colab": {
          "base_uri": "https://localhost:8080/"
        },
        "outputId": "6a23e339-5ebb-4eb0-bc9e-10d3a27cbed3"
      },
      "source": [
        "# create and train logistic regression model\n",
        "logistic_regression_model = LogisticRegression(fit_intercept=True, max_iter=10000)\n",
        "logistic_regression_model.fit(X_train, Y_train)"
      ],
      "execution_count": 58,
      "outputs": [
        {
          "output_type": "execute_result",
          "data": {
            "text/plain": [
              "LogisticRegression(C=1.0, class_weight=None, dual=False, fit_intercept=True,\n",
              "                   intercept_scaling=1, l1_ratio=None, max_iter=10000,\n",
              "                   multi_class='auto', n_jobs=None, penalty='l2',\n",
              "                   random_state=None, solver='lbfgs', tol=0.0001, verbose=0,\n",
              "                   warm_start=False)"
            ]
          },
          "metadata": {
            "tags": []
          },
          "execution_count": 58
        }
      ]
    },
    {
      "cell_type": "code",
      "metadata": {
        "id": "nDwQgFLXkqLt",
        "colab": {
          "base_uri": "https://localhost:8080/"
        },
        "outputId": "8c4a0d5c-3855-443f-fa56-c1967e3fd686"
      },
      "source": [
        "# Get the model coefficients\n",
        "logistic_regression_model.coef_"
      ],
      "execution_count": 59,
      "outputs": [
        {
          "output_type": "execute_result",
          "data": {
            "text/plain": [
              "array([[ 7.08753852e-02,  1.34309688e-02,  0.00000000e+00,\n",
              "         0.00000000e+00,  3.31509302e-02,  4.30551944e-01,\n",
              "         1.30160194e+00,  2.75739779e-01,  1.17552299e-01,\n",
              "         2.50195878e-03,  1.16678883e-02, -3.10719699e-03,\n",
              "         8.21325989e-04, -5.85244058e-03,  7.16999095e-03]])"
            ]
          },
          "metadata": {
            "tags": []
          },
          "execution_count": 59
        }
      ]
    },
    {
      "cell_type": "code",
      "metadata": {
        "id": "09461g64kyAL"
      },
      "source": [
        "# Get the predicted probabilities\n",
        "train_preds = logistic_regression_model.predict(X_train)\n",
        "test_preds = logistic_regression_model.predict(X_test)"
      ],
      "execution_count": 60,
      "outputs": []
    },
    {
      "cell_type": "code",
      "metadata": {
        "id": "sbjU4sEzk4Ct",
        "colab": {
          "base_uri": "https://localhost:8080/"
        },
        "outputId": "94c9e8f2-a8b4-41da-b8ed-0da2c390e39e"
      },
      "source": [
        "# Get the accuracy scores\n",
        "train_accuracy = accuracy_score(train_preds,Y_train)\n",
        "test_accuracy = accuracy_score(test_preds,Y_test)\n",
        "\n",
        "print(\"The accuracy on train data is \", train_accuracy)\n",
        "print(\"The accuracy on test data is \", test_accuracy)"
      ],
      "execution_count": 61,
      "outputs": [
        {
          "output_type": "stream",
          "text": [
            "The accuracy on train data is  0.6804168475900999\n",
            "The accuracy on test data is  0.6666666666666666\n"
          ],
          "name": "stdout"
        }
      ]
    },
    {
      "cell_type": "code",
      "metadata": {
        "id": "rNxOAq-rlANc",
        "colab": {
          "base_uri": "https://localhost:8080/",
          "height": 350
        },
        "outputId": "6655a522-9105-456b-ccf5-11f038f7a03a"
      },
      "source": [
        "# Get the confusion matrix for test\n",
        "labels = ['No Risk', 'At Risk']\n",
        "cm = confusion_matrix(Y_test, test_preds)\n",
        "print(cm)\n",
        "ax= plt.subplot()\n",
        "sns.heatmap(cm, annot=True, ax = ax); #annot=True to annotate cells\n",
        "# labels, title and ticks\n",
        "ax.set_xlabel('Predicted labels')\n",
        "ax.set_ylabel('True labels')\n",
        "ax.set_title('Confusion Matrix')\n",
        "ax.xaxis.set_ticklabels(labels)\n",
        "ax.yaxis.set_ticklabels(labels)"
      ],
      "execution_count": 62,
      "outputs": [
        {
          "output_type": "stream",
          "text": [
            "[[355 198]\n",
            " [186 413]]\n"
          ],
          "name": "stdout"
        },
        {
          "output_type": "execute_result",
          "data": {
            "text/plain": [
              "[Text(0, 0.5, 'No Risk'), Text(0, 1.5, 'At Risk')]"
            ]
          },
          "metadata": {
            "tags": []
          },
          "execution_count": 62
        },
        {
          "output_type": "display_data",
          "data": {
            "image/png": "[encoded data removed]",
            "text/plain": [
              "<Figure size 432x288 with 2 Axes>"
            ]
          },
          "metadata": {
            "tags": [],
            "needs_background": "light"
          }
        }
      ]
    },
    {
      "cell_type": "code",
      "metadata": {
        "id": "vWIq7sqQlzU9",
        "colab": {
          "base_uri": "https://localhost:8080/"
        },
        "outputId": "e7cfb0a4-b5ff-4dca-a46a-7e6938bf566b"
      },
      "source": [
        "# print acurracy and roc_auc score\n",
        "print('ROCAUC score:', roc_auc_score(Y_test, test_preds))\n",
        "print('Accuracy score:', accuracy_score(Y_test, test_preds))\n",
        "\n",
        "# Print the classification report for train and test\n",
        "print(classification_report(Y_train, train_preds))\n",
        "print(\"\\n\")\n",
        "print(classification_report(Y_test, test_preds))"
      ],
      "execution_count": 63,
      "outputs": [
        {
          "output_type": "stream",
          "text": [
            "ROCAUC score: 0.6657177272548884\n",
            "Accuracy score: 0.6666666666666666\n",
            "              precision    recall  f1-score   support\n",
            "\n",
            "           0       0.69      0.68      0.68      2326\n",
            "           1       0.67      0.68      0.68      2280\n",
            "\n",
            "    accuracy                           0.68      4606\n",
            "   macro avg       0.68      0.68      0.68      4606\n",
            "weighted avg       0.68      0.68      0.68      4606\n",
            "\n",
            "\n",
            "\n",
            "              precision    recall  f1-score   support\n",
            "\n",
            "           0       0.66      0.64      0.65       553\n",
            "           1       0.68      0.69      0.68       599\n",
            "\n",
            "    accuracy                           0.67      1152\n",
            "   macro avg       0.67      0.67      0.67      1152\n",
            "weighted avg       0.67      0.67      0.67      1152\n",
            "\n"
          ],
          "name": "stdout"
        }
      ]
    },
    {
      "cell_type": "code",
      "metadata": {
        "id": "Ry58eMjX7c9M"
      },
      "source": [
        ""
      ],
      "execution_count": null,
      "outputs": []
    }
  ]
}
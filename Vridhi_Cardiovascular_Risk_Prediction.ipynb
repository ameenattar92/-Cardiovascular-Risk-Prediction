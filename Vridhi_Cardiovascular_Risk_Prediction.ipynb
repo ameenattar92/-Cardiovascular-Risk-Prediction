{
  "nbformat": 4,
  "nbformat_minor": 0,
  "metadata": {
    "colab": {
      "name": "Vridhi_Cardiovascular_Risk_Prediction.ipynb",
      "provenance": [],
      "mount_file_id": "1es-V82Or9RgQE4jUj4SdTIGatvG4NU2q",
      "authorship_tag": "ABX9TyNRPORMCojg6jttb2/TGGZG",
      "include_colab_link": true
    },
    "kernelspec": {
      "name": "python3",
      "display_name": "Python 3"
    },
    "language_info": {
      "name": "python"
    }
  },
  "cells": [
    {
      "cell_type": "markdown",
      "metadata": {
        "id": "view-in-github",
        "colab_type": "text"
      },
      "source": [
        "<a href=\"https://colab.research.google.com/github/ameenattar92/Cardiovascular-Risk-Prediction/blob/main/Vridhi_Cardiovascular_Risk_Prediction.ipynb\" target=\"_parent\"><img src=\"https://colab.research.google.com/assets/colab-badge.svg\" alt=\"Open In Colab\"/></a>"
      ]
    },
    {
      "cell_type": "markdown",
      "metadata": {
        "id": "Zxpghfs9NJXf"
      },
      "source": [
        "The dataset is from an ongoing cardiovascular study on residents of the town of Framingham,\n",
        "Massachusetts.\n",
        "\n",
        "The classification goal is to predict whether the patient has a 10-year risk of\n",
        "future coronary heart disease (CHD). \n",
        "\n",
        "The dataset provides the patients’ information. It includes\n",
        "over 4,000 records and 15 attributes.\n",
        "Variables\n",
        "Each attribute is a potential risk factor. There are both demographic, behavioral, and medical risk\n",
        "factors.\n",
        "\n",
        "# **Data Description**\n",
        "### **Demographic:**\n",
        "* Sex: male or female(\"M\" or \"F\")\n",
        "* Age: Age of the patient;(Continuous - Although the recorded ages have been truncated to whole numbers, the concept of age is continuous)\n",
        "\n",
        "### **Behavioral**\n",
        "* is_smoking: whether or not the patient is a current smoker (\"YES\" or \"NO\")\n",
        "* Cigs Per Day: the number of cigarettes that the person smoked on average in one day.(can be\n",
        "considered continuous as one can have any number of cigarettes, even half a cigarette.)\n",
        "\n",
        "### **Medical( history)**\n",
        "* BP Meds: whether or not the patient was on blood pressure medication (Nominal)\n",
        "* Prevalent Stroke: whether or not the patient had previously had a stroke (Nominal)\n",
        "* Prevalent Hyp: whether or not the patient was hypertensive (Nominal)\n",
        "* Diabetes: whether or not the patient had diabetes (Nominal)\n",
        "Medical(current)\n",
        "* Tot Chol: total cholesterol level (Continuous)\n",
        "* Sys BP: systolic blood pressure (Continuous)\n",
        "* Dia BP: diastolic blood pressure (Continuous)\n",
        "* BMI: Body Mass Index (Continuous)\n",
        "* Heart Rate: heart rate (Continuous - In medical research, variables such as heart rate though in\n",
        "fact discrete, yet are considered continuous because of large number of possible values.)\n",
        "* Glucose: glucose level (Continuous)\n",
        "Predict variable (desired target)\n",
        "* 10-year risk of coronary heart disease CHD(binary: “1”, means “Yes”, “0” means “No”) -\n",
        "DV"
      ]
    },
    {
      "cell_type": "code",
      "metadata": {
        "id": "qmpG9TGrNF1r"
      },
      "source": [
        "# import library\n",
        "import numpy as np\n",
        "import pandas as pd\n",
        "import matplotlib.pyplot as plt\n",
        "import seaborn as sns\n",
        "\n",
        "from sklearn.tree import DecisionTreeClassifier\n",
        "from sklearn.model_selection import train_test_split\n",
        "from sklearn.metrics import confusion_matrix, roc_curve, accuracy_score, f1_score, log_loss, roc_auc_score\n",
        "from sklearn.metrics import plot_confusion_matrix, plot_precision_recall_curve, plot_roc_curve, classification_report\n",
        "from sklearn.model_selection import GridSearchCV\n",
        "\n",
        "\n",
        "\n",
        "%matplotlib inline"
      ],
      "execution_count": 442,
      "outputs": []
    },
    {
      "cell_type": "code",
      "metadata": {
        "id": "K_WkdwvGQboT"
      },
      "source": [
        "path = '/content/drive/MyDrive/Capstone_project3/data_cardiovascular_risk.csv'\n",
        "df = pd.read_csv(path)"
      ],
      "execution_count": 443,
      "outputs": []
    },
    {
      "cell_type": "code",
      "metadata": {
        "colab": {
          "base_uri": "https://localhost:8080/",
          "height": 204
        },
        "id": "brZ8tYlUwhEk",
        "outputId": "4bd96975-14a6-41b8-f432-caa082cbc831"
      },
      "source": [
        "df.head()"
      ],
      "execution_count": 444,
      "outputs": [
        {
          "output_type": "execute_result",
          "data": {
            "text/html": [
              "<div>\n",
              "<style scoped>\n",
              "    .dataframe tbody tr th:only-of-type {\n",
              "        vertical-align: middle;\n",
              "    }\n",
              "\n",
              "    .dataframe tbody tr th {\n",
              "        vertical-align: top;\n",
              "    }\n",
              "\n",
              "    .dataframe thead th {\n",
              "        text-align: right;\n",
              "    }\n",
              "</style>\n",
              "<table border=\"1\" class=\"dataframe\">\n",
              "  <thead>\n",
              "    <tr style=\"text-align: right;\">\n",
              "      <th></th>\n",
              "      <th>id</th>\n",
              "      <th>age</th>\n",
              "      <th>education</th>\n",
              "      <th>sex</th>\n",
              "      <th>is_smoking</th>\n",
              "      <th>cigsPerDay</th>\n",
              "      <th>BPMeds</th>\n",
              "      <th>prevalentStroke</th>\n",
              "      <th>prevalentHyp</th>\n",
              "      <th>diabetes</th>\n",
              "      <th>totChol</th>\n",
              "      <th>sysBP</th>\n",
              "      <th>diaBP</th>\n",
              "      <th>BMI</th>\n",
              "      <th>heartRate</th>\n",
              "      <th>glucose</th>\n",
              "      <th>TenYearCHD</th>\n",
              "    </tr>\n",
              "  </thead>\n",
              "  <tbody>\n",
              "    <tr>\n",
              "      <th>0</th>\n",
              "      <td>0</td>\n",
              "      <td>64</td>\n",
              "      <td>2.0</td>\n",
              "      <td>F</td>\n",
              "      <td>YES</td>\n",
              "      <td>3.0</td>\n",
              "      <td>0.0</td>\n",
              "      <td>0</td>\n",
              "      <td>0</td>\n",
              "      <td>0</td>\n",
              "      <td>221.0</td>\n",
              "      <td>148.0</td>\n",
              "      <td>85.0</td>\n",
              "      <td>NaN</td>\n",
              "      <td>90.0</td>\n",
              "      <td>80.0</td>\n",
              "      <td>1</td>\n",
              "    </tr>\n",
              "    <tr>\n",
              "      <th>1</th>\n",
              "      <td>1</td>\n",
              "      <td>36</td>\n",
              "      <td>4.0</td>\n",
              "      <td>M</td>\n",
              "      <td>NO</td>\n",
              "      <td>0.0</td>\n",
              "      <td>0.0</td>\n",
              "      <td>0</td>\n",
              "      <td>1</td>\n",
              "      <td>0</td>\n",
              "      <td>212.0</td>\n",
              "      <td>168.0</td>\n",
              "      <td>98.0</td>\n",
              "      <td>29.77</td>\n",
              "      <td>72.0</td>\n",
              "      <td>75.0</td>\n",
              "      <td>0</td>\n",
              "    </tr>\n",
              "    <tr>\n",
              "      <th>2</th>\n",
              "      <td>2</td>\n",
              "      <td>46</td>\n",
              "      <td>1.0</td>\n",
              "      <td>F</td>\n",
              "      <td>YES</td>\n",
              "      <td>10.0</td>\n",
              "      <td>0.0</td>\n",
              "      <td>0</td>\n",
              "      <td>0</td>\n",
              "      <td>0</td>\n",
              "      <td>250.0</td>\n",
              "      <td>116.0</td>\n",
              "      <td>71.0</td>\n",
              "      <td>20.35</td>\n",
              "      <td>88.0</td>\n",
              "      <td>94.0</td>\n",
              "      <td>0</td>\n",
              "    </tr>\n",
              "    <tr>\n",
              "      <th>3</th>\n",
              "      <td>3</td>\n",
              "      <td>50</td>\n",
              "      <td>1.0</td>\n",
              "      <td>M</td>\n",
              "      <td>YES</td>\n",
              "      <td>20.0</td>\n",
              "      <td>0.0</td>\n",
              "      <td>0</td>\n",
              "      <td>1</td>\n",
              "      <td>0</td>\n",
              "      <td>233.0</td>\n",
              "      <td>158.0</td>\n",
              "      <td>88.0</td>\n",
              "      <td>28.26</td>\n",
              "      <td>68.0</td>\n",
              "      <td>94.0</td>\n",
              "      <td>1</td>\n",
              "    </tr>\n",
              "    <tr>\n",
              "      <th>4</th>\n",
              "      <td>4</td>\n",
              "      <td>64</td>\n",
              "      <td>1.0</td>\n",
              "      <td>F</td>\n",
              "      <td>YES</td>\n",
              "      <td>30.0</td>\n",
              "      <td>0.0</td>\n",
              "      <td>0</td>\n",
              "      <td>0</td>\n",
              "      <td>0</td>\n",
              "      <td>241.0</td>\n",
              "      <td>136.5</td>\n",
              "      <td>85.0</td>\n",
              "      <td>26.42</td>\n",
              "      <td>70.0</td>\n",
              "      <td>77.0</td>\n",
              "      <td>0</td>\n",
              "    </tr>\n",
              "  </tbody>\n",
              "</table>\n",
              "</div>"
            ],
            "text/plain": [
              "   id  age  education sex  ...    BMI  heartRate  glucose  TenYearCHD\n",
              "0   0   64        2.0   F  ...    NaN       90.0     80.0           1\n",
              "1   1   36        4.0   M  ...  29.77       72.0     75.0           0\n",
              "2   2   46        1.0   F  ...  20.35       88.0     94.0           0\n",
              "3   3   50        1.0   M  ...  28.26       68.0     94.0           1\n",
              "4   4   64        1.0   F  ...  26.42       70.0     77.0           0\n",
              "\n",
              "[5 rows x 17 columns]"
            ]
          },
          "metadata": {
            "tags": []
          },
          "execution_count": 444
        }
      ]
    },
    {
      "cell_type": "code",
      "metadata": {
        "colab": {
          "base_uri": "https://localhost:8080/"
        },
        "id": "nduquktiwmw4",
        "outputId": "784a626b-9674-4508-e4f9-f3f9a99c8d15"
      },
      "source": [
        "df.info()"
      ],
      "execution_count": 445,
      "outputs": [
        {
          "output_type": "stream",
          "text": [
            "<class 'pandas.core.frame.DataFrame'>\n",
            "RangeIndex: 3390 entries, 0 to 3389\n",
            "Data columns (total 17 columns):\n",
            " #   Column           Non-Null Count  Dtype  \n",
            "---  ------           --------------  -----  \n",
            " 0   id               3390 non-null   int64  \n",
            " 1   age              3390 non-null   int64  \n",
            " 2   education        3303 non-null   float64\n",
            " 3   sex              3390 non-null   object \n",
            " 4   is_smoking       3390 non-null   object \n",
            " 5   cigsPerDay       3368 non-null   float64\n",
            " 6   BPMeds           3346 non-null   float64\n",
            " 7   prevalentStroke  3390 non-null   int64  \n",
            " 8   prevalentHyp     3390 non-null   int64  \n",
            " 9   diabetes         3390 non-null   int64  \n",
            " 10  totChol          3352 non-null   float64\n",
            " 11  sysBP            3390 non-null   float64\n",
            " 12  diaBP            3390 non-null   float64\n",
            " 13  BMI              3376 non-null   float64\n",
            " 14  heartRate        3389 non-null   float64\n",
            " 15  glucose          3086 non-null   float64\n",
            " 16  TenYearCHD       3390 non-null   int64  \n",
            "dtypes: float64(9), int64(6), object(2)\n",
            "memory usage: 450.4+ KB\n"
          ],
          "name": "stdout"
        }
      ]
    },
    {
      "cell_type": "code",
      "metadata": {
        "colab": {
          "base_uri": "https://localhost:8080/",
          "height": 317
        },
        "id": "G8RwqphvwqJA",
        "outputId": "bf1e1ce2-62ac-44f9-89df-74310717968a"
      },
      "source": [
        "df.describe()"
      ],
      "execution_count": 446,
      "outputs": [
        {
          "output_type": "execute_result",
          "data": {
            "text/html": [
              "<div>\n",
              "<style scoped>\n",
              "    .dataframe tbody tr th:only-of-type {\n",
              "        vertical-align: middle;\n",
              "    }\n",
              "\n",
              "    .dataframe tbody tr th {\n",
              "        vertical-align: top;\n",
              "    }\n",
              "\n",
              "    .dataframe thead th {\n",
              "        text-align: right;\n",
              "    }\n",
              "</style>\n",
              "<table border=\"1\" class=\"dataframe\">\n",
              "  <thead>\n",
              "    <tr style=\"text-align: right;\">\n",
              "      <th></th>\n",
              "      <th>id</th>\n",
              "      <th>age</th>\n",
              "      <th>education</th>\n",
              "      <th>cigsPerDay</th>\n",
              "      <th>BPMeds</th>\n",
              "      <th>prevalentStroke</th>\n",
              "      <th>prevalentHyp</th>\n",
              "      <th>diabetes</th>\n",
              "      <th>totChol</th>\n",
              "      <th>sysBP</th>\n",
              "      <th>diaBP</th>\n",
              "      <th>BMI</th>\n",
              "      <th>heartRate</th>\n",
              "      <th>glucose</th>\n",
              "      <th>TenYearCHD</th>\n",
              "    </tr>\n",
              "  </thead>\n",
              "  <tbody>\n",
              "    <tr>\n",
              "      <th>count</th>\n",
              "      <td>3390.000000</td>\n",
              "      <td>3390.000000</td>\n",
              "      <td>3303.000000</td>\n",
              "      <td>3368.000000</td>\n",
              "      <td>3346.000000</td>\n",
              "      <td>3390.000000</td>\n",
              "      <td>3390.000000</td>\n",
              "      <td>3390.000000</td>\n",
              "      <td>3352.000000</td>\n",
              "      <td>3390.00000</td>\n",
              "      <td>3390.000000</td>\n",
              "      <td>3376.000000</td>\n",
              "      <td>3389.000000</td>\n",
              "      <td>3086.000000</td>\n",
              "      <td>3390.000000</td>\n",
              "    </tr>\n",
              "    <tr>\n",
              "      <th>mean</th>\n",
              "      <td>1694.500000</td>\n",
              "      <td>49.542183</td>\n",
              "      <td>1.970936</td>\n",
              "      <td>9.069477</td>\n",
              "      <td>0.029886</td>\n",
              "      <td>0.006490</td>\n",
              "      <td>0.315339</td>\n",
              "      <td>0.025664</td>\n",
              "      <td>237.074284</td>\n",
              "      <td>132.60118</td>\n",
              "      <td>82.883038</td>\n",
              "      <td>25.794964</td>\n",
              "      <td>75.977279</td>\n",
              "      <td>82.086520</td>\n",
              "      <td>0.150737</td>\n",
              "    </tr>\n",
              "    <tr>\n",
              "      <th>std</th>\n",
              "      <td>978.753033</td>\n",
              "      <td>8.592878</td>\n",
              "      <td>1.019081</td>\n",
              "      <td>11.879078</td>\n",
              "      <td>0.170299</td>\n",
              "      <td>0.080309</td>\n",
              "      <td>0.464719</td>\n",
              "      <td>0.158153</td>\n",
              "      <td>45.247430</td>\n",
              "      <td>22.29203</td>\n",
              "      <td>12.023581</td>\n",
              "      <td>4.115449</td>\n",
              "      <td>11.971868</td>\n",
              "      <td>24.244753</td>\n",
              "      <td>0.357846</td>\n",
              "    </tr>\n",
              "    <tr>\n",
              "      <th>min</th>\n",
              "      <td>0.000000</td>\n",
              "      <td>32.000000</td>\n",
              "      <td>1.000000</td>\n",
              "      <td>0.000000</td>\n",
              "      <td>0.000000</td>\n",
              "      <td>0.000000</td>\n",
              "      <td>0.000000</td>\n",
              "      <td>0.000000</td>\n",
              "      <td>107.000000</td>\n",
              "      <td>83.50000</td>\n",
              "      <td>48.000000</td>\n",
              "      <td>15.960000</td>\n",
              "      <td>45.000000</td>\n",
              "      <td>40.000000</td>\n",
              "      <td>0.000000</td>\n",
              "    </tr>\n",
              "    <tr>\n",
              "      <th>25%</th>\n",
              "      <td>847.250000</td>\n",
              "      <td>42.000000</td>\n",
              "      <td>1.000000</td>\n",
              "      <td>0.000000</td>\n",
              "      <td>0.000000</td>\n",
              "      <td>0.000000</td>\n",
              "      <td>0.000000</td>\n",
              "      <td>0.000000</td>\n",
              "      <td>206.000000</td>\n",
              "      <td>117.00000</td>\n",
              "      <td>74.500000</td>\n",
              "      <td>23.020000</td>\n",
              "      <td>68.000000</td>\n",
              "      <td>71.000000</td>\n",
              "      <td>0.000000</td>\n",
              "    </tr>\n",
              "    <tr>\n",
              "      <th>50%</th>\n",
              "      <td>1694.500000</td>\n",
              "      <td>49.000000</td>\n",
              "      <td>2.000000</td>\n",
              "      <td>0.000000</td>\n",
              "      <td>0.000000</td>\n",
              "      <td>0.000000</td>\n",
              "      <td>0.000000</td>\n",
              "      <td>0.000000</td>\n",
              "      <td>234.000000</td>\n",
              "      <td>128.50000</td>\n",
              "      <td>82.000000</td>\n",
              "      <td>25.380000</td>\n",
              "      <td>75.000000</td>\n",
              "      <td>78.000000</td>\n",
              "      <td>0.000000</td>\n",
              "    </tr>\n",
              "    <tr>\n",
              "      <th>75%</th>\n",
              "      <td>2541.750000</td>\n",
              "      <td>56.000000</td>\n",
              "      <td>3.000000</td>\n",
              "      <td>20.000000</td>\n",
              "      <td>0.000000</td>\n",
              "      <td>0.000000</td>\n",
              "      <td>1.000000</td>\n",
              "      <td>0.000000</td>\n",
              "      <td>264.000000</td>\n",
              "      <td>144.00000</td>\n",
              "      <td>90.000000</td>\n",
              "      <td>28.040000</td>\n",
              "      <td>83.000000</td>\n",
              "      <td>87.000000</td>\n",
              "      <td>0.000000</td>\n",
              "    </tr>\n",
              "    <tr>\n",
              "      <th>max</th>\n",
              "      <td>3389.000000</td>\n",
              "      <td>70.000000</td>\n",
              "      <td>4.000000</td>\n",
              "      <td>70.000000</td>\n",
              "      <td>1.000000</td>\n",
              "      <td>1.000000</td>\n",
              "      <td>1.000000</td>\n",
              "      <td>1.000000</td>\n",
              "      <td>696.000000</td>\n",
              "      <td>295.00000</td>\n",
              "      <td>142.500000</td>\n",
              "      <td>56.800000</td>\n",
              "      <td>143.000000</td>\n",
              "      <td>394.000000</td>\n",
              "      <td>1.000000</td>\n",
              "    </tr>\n",
              "  </tbody>\n",
              "</table>\n",
              "</div>"
            ],
            "text/plain": [
              "                id          age  ...      glucose   TenYearCHD\n",
              "count  3390.000000  3390.000000  ...  3086.000000  3390.000000\n",
              "mean   1694.500000    49.542183  ...    82.086520     0.150737\n",
              "std     978.753033     8.592878  ...    24.244753     0.357846\n",
              "min       0.000000    32.000000  ...    40.000000     0.000000\n",
              "25%     847.250000    42.000000  ...    71.000000     0.000000\n",
              "50%    1694.500000    49.000000  ...    78.000000     0.000000\n",
              "75%    2541.750000    56.000000  ...    87.000000     0.000000\n",
              "max    3389.000000    70.000000  ...   394.000000     1.000000\n",
              "\n",
              "[8 rows x 15 columns]"
            ]
          },
          "metadata": {
            "tags": []
          },
          "execution_count": 446
        }
      ]
    },
    {
      "cell_type": "code",
      "metadata": {
        "id": "fWZBXyolRKpA"
      },
      "source": [
        "# fill value with mode for qualitative values\n",
        "df['sex'].fillna(df['sex'].mode()[0], inplace=True)\n",
        "df['is_smoking'].fillna(df['is_smoking'].mode()[0], inplace=True)\n",
        "df['BPMeds'].fillna(df['BPMeds'].mode()[0], inplace=True)\n",
        "# fill values with mean for quantitative values\n",
        "df.fillna(df.mean(axis=0), inplace=True)"
      ],
      "execution_count": 447,
      "outputs": []
    },
    {
      "cell_type": "code",
      "metadata": {
        "colab": {
          "base_uri": "https://localhost:8080/"
        },
        "id": "OEuWlshDuKFl",
        "outputId": "3a166637-e3c7-488b-f389-c1ffedc68ea2"
      },
      "source": [
        "df.isnull().sum()"
      ],
      "execution_count": 448,
      "outputs": [
        {
          "output_type": "execute_result",
          "data": {
            "text/plain": [
              "id                 0\n",
              "age                0\n",
              "education          0\n",
              "sex                0\n",
              "is_smoking         0\n",
              "cigsPerDay         0\n",
              "BPMeds             0\n",
              "prevalentStroke    0\n",
              "prevalentHyp       0\n",
              "diabetes           0\n",
              "totChol            0\n",
              "sysBP              0\n",
              "diaBP              0\n",
              "BMI                0\n",
              "heartRate          0\n",
              "glucose            0\n",
              "TenYearCHD         0\n",
              "dtype: int64"
            ]
          },
          "metadata": {
            "tags": []
          },
          "execution_count": 448
        }
      ]
    },
    {
      "cell_type": "code",
      "metadata": {
        "id": "Lw9XgE_EuO8C"
      },
      "source": [
        "df.drop(columns=['id'],inplace=True)"
      ],
      "execution_count": 449,
      "outputs": []
    },
    {
      "cell_type": "code",
      "metadata": {
        "colab": {
          "base_uri": "https://localhost:8080/",
          "height": 606
        },
        "id": "d8RFtiQNw7FT",
        "outputId": "561435a4-2c25-42de-acbe-89ec76c11356"
      },
      "source": [
        "my_palette = {0 : 'teal' , 1 : 'cyan'}\n",
        "plt.figure(figsize = (10,10))\n",
        "sns.countplot(x = df['BPMeds'], hue = df['TenYearCHD'], palette = my_palette)\n",
        "\n",
        "  \n",
        "plt.show()"
      ],
      "execution_count": 450,
      "outputs": [
        {
          "output_type": "display_data",
          "data": {
            "image/png": "[encoded data removed]",
            "text/plain": [
              "<Figure size 720x720 with 1 Axes>"
            ]
          },
          "metadata": {
            "tags": [],
            "needs_background": "light"
          }
        }
      ]
    },
    {
      "cell_type": "code",
      "metadata": {
        "id": "KRHBPnxmuPCD"
      },
      "source": [
        "df['sex'] = df['sex'].apply(lambda x: 1 if x=='M' else 0)\n",
        "df['is_smoking'] = df['is_smoking'].apply(lambda x: 1 if x=='YES' else 0)"
      ],
      "execution_count": 451,
      "outputs": []
    },
    {
      "cell_type": "code",
      "metadata": {
        "colab": {
          "base_uri": "https://localhost:8080/",
          "height": 204
        },
        "id": "OklkjI09zPw4",
        "outputId": "2bc0130a-1b9b-48c2-e1b8-b309148e36dc"
      },
      "source": [
        "df.head()"
      ],
      "execution_count": 452,
      "outputs": [
        {
          "output_type": "execute_result",
          "data": {
            "text/html": [
              "<div>\n",
              "<style scoped>\n",
              "    .dataframe tbody tr th:only-of-type {\n",
              "        vertical-align: middle;\n",
              "    }\n",
              "\n",
              "    .dataframe tbody tr th {\n",
              "        vertical-align: top;\n",
              "    }\n",
              "\n",
              "    .dataframe thead th {\n",
              "        text-align: right;\n",
              "    }\n",
              "</style>\n",
              "<table border=\"1\" class=\"dataframe\">\n",
              "  <thead>\n",
              "    <tr style=\"text-align: right;\">\n",
              "      <th></th>\n",
              "      <th>age</th>\n",
              "      <th>education</th>\n",
              "      <th>sex</th>\n",
              "      <th>is_smoking</th>\n",
              "      <th>cigsPerDay</th>\n",
              "      <th>BPMeds</th>\n",
              "      <th>prevalentStroke</th>\n",
              "      <th>prevalentHyp</th>\n",
              "      <th>diabetes</th>\n",
              "      <th>totChol</th>\n",
              "      <th>sysBP</th>\n",
              "      <th>diaBP</th>\n",
              "      <th>BMI</th>\n",
              "      <th>heartRate</th>\n",
              "      <th>glucose</th>\n",
              "      <th>TenYearCHD</th>\n",
              "    </tr>\n",
              "  </thead>\n",
              "  <tbody>\n",
              "    <tr>\n",
              "      <th>0</th>\n",
              "      <td>64</td>\n",
              "      <td>2.0</td>\n",
              "      <td>0</td>\n",
              "      <td>1</td>\n",
              "      <td>3.0</td>\n",
              "      <td>0.0</td>\n",
              "      <td>0</td>\n",
              "      <td>0</td>\n",
              "      <td>0</td>\n",
              "      <td>221.0</td>\n",
              "      <td>148.0</td>\n",
              "      <td>85.0</td>\n",
              "      <td>25.794964</td>\n",
              "      <td>90.0</td>\n",
              "      <td>80.0</td>\n",
              "      <td>1</td>\n",
              "    </tr>\n",
              "    <tr>\n",
              "      <th>1</th>\n",
              "      <td>36</td>\n",
              "      <td>4.0</td>\n",
              "      <td>1</td>\n",
              "      <td>0</td>\n",
              "      <td>0.0</td>\n",
              "      <td>0.0</td>\n",
              "      <td>0</td>\n",
              "      <td>1</td>\n",
              "      <td>0</td>\n",
              "      <td>212.0</td>\n",
              "      <td>168.0</td>\n",
              "      <td>98.0</td>\n",
              "      <td>29.770000</td>\n",
              "      <td>72.0</td>\n",
              "      <td>75.0</td>\n",
              "      <td>0</td>\n",
              "    </tr>\n",
              "    <tr>\n",
              "      <th>2</th>\n",
              "      <td>46</td>\n",
              "      <td>1.0</td>\n",
              "      <td>0</td>\n",
              "      <td>1</td>\n",
              "      <td>10.0</td>\n",
              "      <td>0.0</td>\n",
              "      <td>0</td>\n",
              "      <td>0</td>\n",
              "      <td>0</td>\n",
              "      <td>250.0</td>\n",
              "      <td>116.0</td>\n",
              "      <td>71.0</td>\n",
              "      <td>20.350000</td>\n",
              "      <td>88.0</td>\n",
              "      <td>94.0</td>\n",
              "      <td>0</td>\n",
              "    </tr>\n",
              "    <tr>\n",
              "      <th>3</th>\n",
              "      <td>50</td>\n",
              "      <td>1.0</td>\n",
              "      <td>1</td>\n",
              "      <td>1</td>\n",
              "      <td>20.0</td>\n",
              "      <td>0.0</td>\n",
              "      <td>0</td>\n",
              "      <td>1</td>\n",
              "      <td>0</td>\n",
              "      <td>233.0</td>\n",
              "      <td>158.0</td>\n",
              "      <td>88.0</td>\n",
              "      <td>28.260000</td>\n",
              "      <td>68.0</td>\n",
              "      <td>94.0</td>\n",
              "      <td>1</td>\n",
              "    </tr>\n",
              "    <tr>\n",
              "      <th>4</th>\n",
              "      <td>64</td>\n",
              "      <td>1.0</td>\n",
              "      <td>0</td>\n",
              "      <td>1</td>\n",
              "      <td>30.0</td>\n",
              "      <td>0.0</td>\n",
              "      <td>0</td>\n",
              "      <td>0</td>\n",
              "      <td>0</td>\n",
              "      <td>241.0</td>\n",
              "      <td>136.5</td>\n",
              "      <td>85.0</td>\n",
              "      <td>26.420000</td>\n",
              "      <td>70.0</td>\n",
              "      <td>77.0</td>\n",
              "      <td>0</td>\n",
              "    </tr>\n",
              "  </tbody>\n",
              "</table>\n",
              "</div>"
            ],
            "text/plain": [
              "   age  education  sex  is_smoking  ...        BMI  heartRate  glucose  TenYearCHD\n",
              "0   64        2.0    0           1  ...  25.794964       90.0     80.0           1\n",
              "1   36        4.0    1           0  ...  29.770000       72.0     75.0           0\n",
              "2   46        1.0    0           1  ...  20.350000       88.0     94.0           0\n",
              "3   50        1.0    1           1  ...  28.260000       68.0     94.0           1\n",
              "4   64        1.0    0           1  ...  26.420000       70.0     77.0           0\n",
              "\n",
              "[5 rows x 16 columns]"
            ]
          },
          "metadata": {
            "tags": []
          },
          "execution_count": 452
        }
      ]
    },
    {
      "cell_type": "markdown",
      "metadata": {
        "id": "vgsGFGJvzmMs"
      },
      "source": [
        "### Building Desicion Tree Model\n",
        "Decision tree is a type of supervised learning algorithm that is mostly used in classification problems. It works for both categorical and continuous input and output variables."
      ]
    },
    {
      "cell_type": "code",
      "metadata": {
        "id": "FFy9k-IIzmxh"
      },
      "source": [
        "X = df.drop(columns='TenYearCHD').values\n",
        "y = df['TenYearCHD'].values"
      ],
      "execution_count": 453,
      "outputs": []
    },
    {
      "cell_type": "code",
      "metadata": {
        "colab": {
          "base_uri": "https://localhost:8080/"
        },
        "id": "fnHrBekOzTBA",
        "outputId": "3e5543a8-9a2c-4dde-e2d5-7296da8e1437"
      },
      "source": [
        "X.shape"
      ],
      "execution_count": 454,
      "outputs": [
        {
          "output_type": "execute_result",
          "data": {
            "text/plain": [
              "(3390, 15)"
            ]
          },
          "metadata": {
            "tags": []
          },
          "execution_count": 454
        }
      ]
    },
    {
      "cell_type": "markdown",
      "metadata": {
        "id": "WnSr-mZF3XIU"
      },
      "source": [
        "spliting the data"
      ]
    },
    {
      "cell_type": "code",
      "metadata": {
        "id": "nrZfimeh2W18"
      },
      "source": [
        "X_train,X_test,y_train,y_test = train_test_split(X,y,test_size = 0.2,random_state=324)"
      ],
      "execution_count": 455,
      "outputs": []
    },
    {
      "cell_type": "code",
      "metadata": {
        "colab": {
          "base_uri": "https://localhost:8080/"
        },
        "id": "_4DUwXq621JE",
        "outputId": "49369701-3d16-4736-dec8-99161323233b"
      },
      "source": [
        "print(X_train.shape)\n",
        "print(y_train.shape)\n",
        "print(X_test.shape)\n",
        "print(y_test.shape)"
      ],
      "execution_count": 456,
      "outputs": [
        {
          "output_type": "stream",
          "text": [
            "(2712, 15)\n",
            "(2712,)\n",
            "(678, 15)\n",
            "(678,)\n"
          ],
          "name": "stdout"
        }
      ]
    },
    {
      "cell_type": "code",
      "metadata": {
        "colab": {
          "base_uri": "https://localhost:8080/"
        },
        "id": "ctRCiGkW244u",
        "outputId": "6d647b39-537f-46aa-d10c-bd738d3fce59"
      },
      "source": [
        "# now we train and build our model\n",
        "decision_tree_model = DecisionTreeClassifier(criterion=\"gini\",max_leaf_nodes= 10,random_state=0)\n",
        "decision_tree_model.fit(X_train,y_train)"
      ],
      "execution_count": 457,
      "outputs": [
        {
          "output_type": "execute_result",
          "data": {
            "text/plain": [
              "DecisionTreeClassifier(ccp_alpha=0.0, class_weight=None, criterion='gini',\n",
              "                       max_depth=None, max_features=None, max_leaf_nodes=10,\n",
              "                       min_impurity_decrease=0.0, min_impurity_split=None,\n",
              "                       min_samples_leaf=1, min_samples_split=2,\n",
              "                       min_weight_fraction_leaf=0.0, presort='deprecated',\n",
              "                       random_state=0, splitter='best')"
            ]
          },
          "metadata": {
            "tags": []
          },
          "execution_count": 457
        }
      ]
    },
    {
      "cell_type": "markdown",
      "metadata": {
        "id": "oAOyBp2q5JTT"
      },
      "source": [
        "## Predicting on test cell and train cell"
      ]
    },
    {
      "cell_type": "code",
      "metadata": {
        "id": "mCVHt0ucA7_p"
      },
      "source": [
        "train_preds = decision_tree_model.predict(X_train)\n",
        "test_preds = decision_tree_model.predict(X_test)"
      ],
      "execution_count": 458,
      "outputs": []
    },
    {
      "cell_type": "code",
      "metadata": {
        "colab": {
          "base_uri": "https://localhost:8080/"
        },
        "id": "WIpoETxF5X2U",
        "outputId": "217dbe02-aa90-4419-e20c-bdf079a9ab26"
      },
      "source": [
        "test_preds[:10]"
      ],
      "execution_count": 459,
      "outputs": [
        {
          "output_type": "execute_result",
          "data": {
            "text/plain": [
              "array([0, 0, 0, 0, 0, 0, 0, 0, 0, 0])"
            ]
          },
          "metadata": {
            "tags": []
          },
          "execution_count": 459
        }
      ]
    },
    {
      "cell_type": "code",
      "metadata": {
        "colab": {
          "base_uri": "https://localhost:8080/"
        },
        "id": "AqYuzorV5cwB",
        "outputId": "571781a0-2973-412c-8cb1-ba12ace6b9a8"
      },
      "source": [
        "y_test[:10]"
      ],
      "execution_count": 460,
      "outputs": [
        {
          "output_type": "execute_result",
          "data": {
            "text/plain": [
              "array([0, 0, 0, 1, 0, 0, 1, 0, 0, 0])"
            ]
          },
          "metadata": {
            "tags": []
          },
          "execution_count": 460
        }
      ]
    },
    {
      "cell_type": "code",
      "metadata": {
        "colab": {
          "base_uri": "https://localhost:8080/"
        },
        "id": "5S8-paAhBeZK",
        "outputId": "1fb3ef61-87e2-4e31-faed-779deac9c390"
      },
      "source": [
        "train_preds[0:10]"
      ],
      "execution_count": 461,
      "outputs": [
        {
          "output_type": "execute_result",
          "data": {
            "text/plain": [
              "array([0, 0, 0, 0, 0, 0, 0, 0, 0, 0])"
            ]
          },
          "metadata": {
            "tags": []
          },
          "execution_count": 461
        }
      ]
    },
    {
      "cell_type": "markdown",
      "metadata": {
        "id": "Sg8VQSpX7ZUi"
      },
      "source": [
        "# Measuing accuracy"
      ]
    },
    {
      "cell_type": "code",
      "metadata": {
        "colab": {
          "base_uri": "https://localhost:8080/"
        },
        "id": "WzVzsVZj5lj3",
        "outputId": "a1cded34-4b49-46c9-f5dd-e9f7e3d7e103"
      },
      "source": [
        "testing_accuracy = accuracy_score(y_test, test_preds) * 100\n",
        "print(f'the testing accuracy is {testing_accuracy}')"
      ],
      "execution_count": 462,
      "outputs": [
        {
          "output_type": "stream",
          "text": [
            "the testing accuracy is 84.95575221238938\n"
          ],
          "name": "stdout"
        }
      ]
    },
    {
      "cell_type": "code",
      "metadata": {
        "colab": {
          "base_uri": "https://localhost:8080/"
        },
        "id": "Xf5E79DDByUq",
        "outputId": "d43b6e33-f197-469e-de57-5dfd301f576b"
      },
      "source": [
        "training_accuracy = accuracy_score(y_train,train_preds) *100\n",
        "print(f'the training accuracy is {training_accuracy}')"
      ],
      "execution_count": 463,
      "outputs": [
        {
          "output_type": "stream",
          "text": [
            "the training accuracy is 85.76696165191741\n"
          ],
          "name": "stdout"
        }
      ]
    },
    {
      "cell_type": "code",
      "metadata": {
        "id": "w9trfIi78KS6"
      },
      "source": [
        "#visualisation of decision tree model\n",
        "from sklearn import tree\n"
      ],
      "execution_count": 464,
      "outputs": []
    },
    {
      "cell_type": "code",
      "metadata": {
        "colab": {
          "base_uri": "https://localhost:8080/",
          "height": 1000
        },
        "id": "OMkjDjwZ85LZ",
        "outputId": "26b83ded-a520-4440-e877-d004318242d9"
      },
      "source": [
        "fig, axes = plt.subplots(nrows = 1,ncols = 1,figsize = (4,4), dpi=300)\n",
        "tree.plot_tree(decision_tree_model,filled=True)"
      ],
      "execution_count": 465,
      "outputs": [
        {
          "output_type": "execute_result",
          "data": {
            "text/plain": [
              "[Text(393.46153846153845, 830.5, 'X[10] <= 144.75\\ngini = 0.257\\nsamples = 2712\\nvalue = [2302, 410]'),\n",
              " Text(143.07692307692307, 679.5, 'X[0] <= 46.5\\ngini = 0.199\\nsamples = 2057\\nvalue = [1826, 231]'),\n",
              " Text(71.53846153846153, 528.5, 'gini = 0.124\\nsamples = 1022\\nvalue = [954, 68]'),\n",
              " Text(214.61538461538458, 528.5, 'X[14] <= 142.5\\ngini = 0.265\\nsamples = 1035\\nvalue = [872, 163]'),\n",
              " Text(143.07692307692307, 377.5, 'gini = 0.257\\nsamples = 1022\\nvalue = [867, 155]'),\n",
              " Text(286.15384615384613, 377.5, 'gini = 0.473\\nsamples = 13\\nvalue = [5, 8]'),\n",
              " Text(643.8461538461538, 679.5, 'X[0] <= 54.5\\ngini = 0.397\\nsamples = 655\\nvalue = [476, 179]'),\n",
              " Text(500.7692307692307, 528.5, 'X[14] <= 265.0\\ngini = 0.302\\nsamples = 308\\nvalue = [251, 57]'),\n",
              " Text(429.23076923076917, 377.5, 'X[2] <= 0.5\\ngini = 0.291\\nsamples = 305\\nvalue = [251, 54]'),\n",
              " Text(357.6923076923077, 226.5, 'gini = 0.183\\nsamples = 167\\nvalue = [150, 17]'),\n",
              " Text(500.7692307692307, 226.5, 'X[9] <= 259.0\\ngini = 0.392\\nsamples = 138\\nvalue = [101, 37]'),\n",
              " Text(429.23076923076917, 75.5, 'gini = 0.233\\nsamples = 89\\nvalue = [77, 12]'),\n",
              " Text(572.3076923076923, 75.5, 'gini = 0.5\\nsamples = 49\\nvalue = [24, 25]'),\n",
              " Text(572.3076923076923, 377.5, 'gini = 0.0\\nsamples = 3\\nvalue = [0, 3]'),\n",
              " Text(786.9230769230769, 528.5, 'X[14] <= 122.5\\ngini = 0.456\\nsamples = 347\\nvalue = [225, 122]'),\n",
              " Text(715.3846153846154, 377.5, 'X[4] <= 22.5\\ngini = 0.442\\nsamples = 331\\nvalue = [222, 109]'),\n",
              " Text(643.8461538461538, 226.5, 'gini = 0.429\\nsamples = 318\\nvalue = [219, 99]'),\n",
              " Text(786.9230769230769, 226.5, 'gini = 0.355\\nsamples = 13\\nvalue = [3, 10]'),\n",
              " Text(858.4615384615383, 377.5, 'gini = 0.305\\nsamples = 16\\nvalue = [3, 13]')]"
            ]
          },
          "metadata": {
            "tags": []
          },
          "execution_count": 465
        },
        {
          "output_type": "display_data",
          "data": {
            "image/png": "[encoded data removed]",
            "text/plain": [
              "<Figure size 1200x1200 with 1 Axes>"
            ]
          },
          "metadata": {
            "tags": [],
            "needs_background": "light"
          }
        }
      ]
    },
    {
      "cell_type": "code",
      "metadata": {
        "colab": {
          "base_uri": "https://localhost:8080/",
          "height": 346
        },
        "id": "iZYbc81d_Ew5",
        "outputId": "e7ca9a9e-a4ef-4789-d70c-aebd41156697"
      },
      "source": [
        "#the confusion matrix for training\n",
        "labels = ['At Risk', 'No Risk']\n",
        "cm = confusion_matrix(y_train, train_preds)\n",
        "print(cm)\n",
        "ax= plt.subplot()\n",
        "sns.heatmap(cm, annot=True, ax = ax) #annot=True to annotate cells\n",
        "ax.set_xlabel('Predicted labels') \n",
        "ax.set_ylabel('True labels')\n",
        "ax.set_title('Confusion Matrix for Decision Tree Train predict')\n",
        "ax.xaxis.set_ticklabels(labels)\n",
        "ax.yaxis.set_ticklabels(labels)"
      ],
      "execution_count": 466,
      "outputs": [
        {
          "output_type": "stream",
          "text": [
            "[[2267   35]\n",
            " [ 351   59]]\n"
          ],
          "name": "stdout"
        },
        {
          "output_type": "execute_result",
          "data": {
            "text/plain": [
              "[Text(0, 0.5, 'At Risk'), Text(0, 1.5, 'No Risk')]"
            ]
          },
          "metadata": {
            "tags": []
          },
          "execution_count": 466
        },
        {
          "output_type": "display_data",
          "data": {
            "image/png": "[encoded data removed]",
            "text/plain": [
              "<Figure size 432x288 with 2 Axes>"
            ]
          },
          "metadata": {
            "tags": [],
            "needs_background": "light"
          }
        }
      ]
    },
    {
      "cell_type": "code",
      "metadata": {
        "colab": {
          "base_uri": "https://localhost:8080/",
          "height": 346
        },
        "id": "CoPBb0O8G0Nn",
        "outputId": "e05b1eb9-4227-46c6-9e8c-85c18e626979"
      },
      "source": [
        "#the confusion matrix for test data\n",
        "labels = ['At Risk', 'No Risk']\n",
        "cm = confusion_matrix(y_test, test_preds)\n",
        "print(cm)\n",
        "ax= plt.subplot()\n",
        "sns.heatmap(cm, annot=True, ax = ax) #annot=True to annotate cells\n",
        "# labels, title and ticks\n",
        "ax.set_xlabel('Predicted labels')\n",
        "ax.set_ylabel('True labels')\n",
        "ax.set_title('Confusion Matrix for Decision Tree Test predict')\n",
        "ax.xaxis.set_ticklabels(labels)\n",
        "ax.yaxis.set_ticklabels(labels)"
      ],
      "execution_count": 467,
      "outputs": [
        {
          "output_type": "stream",
          "text": [
            "[[566  11]\n",
            " [ 91  10]]\n"
          ],
          "name": "stdout"
        },
        {
          "output_type": "execute_result",
          "data": {
            "text/plain": [
              "[Text(0, 0.5, 'At Risk'), Text(0, 1.5, 'No Risk')]"
            ]
          },
          "metadata": {
            "tags": []
          },
          "execution_count": 467
        },
        {
          "output_type": "display_data",
          "data": {
            "image/png": "[encoded data removed]",
            "text/plain": [
              "<Figure size 432x288 with 2 Axes>"
            ]
          },
          "metadata": {
            "tags": [],
            "needs_background": "light"
          }
        }
      ]
    },
    {
      "cell_type": "code",
      "metadata": {
        "colab": {
          "base_uri": "https://localhost:8080/"
        },
        "id": "lDuVZcSBHa29",
        "outputId": "5eab40e0-af65-4f49-befd-9775d12fae7a"
      },
      "source": [
        "#classification report for train\n",
        "print(classification_report(y_train, train_preds))"
      ],
      "execution_count": 468,
      "outputs": [
        {
          "output_type": "stream",
          "text": [
            "              precision    recall  f1-score   support\n",
            "\n",
            "           0       0.87      0.98      0.92      2302\n",
            "           1       0.63      0.14      0.23       410\n",
            "\n",
            "    accuracy                           0.86      2712\n",
            "   macro avg       0.75      0.56      0.58      2712\n",
            "weighted avg       0.83      0.86      0.82      2712\n",
            "\n"
          ],
          "name": "stdout"
        }
      ]
    },
    {
      "cell_type": "code",
      "metadata": {
        "colab": {
          "base_uri": "https://localhost:8080/"
        },
        "id": "ENbqQM5tH6Xc",
        "outputId": "b5a48b05-51cc-4ff2-94bb-a202600d57a5"
      },
      "source": [
        "#classification report for test\n",
        "print(classification_report(y_test, test_preds))"
      ],
      "execution_count": 469,
      "outputs": [
        {
          "output_type": "stream",
          "text": [
            "              precision    recall  f1-score   support\n",
            "\n",
            "           0       0.86      0.98      0.92       577\n",
            "           1       0.48      0.10      0.16       101\n",
            "\n",
            "    accuracy                           0.85       678\n",
            "   macro avg       0.67      0.54      0.54       678\n",
            "weighted avg       0.80      0.85      0.81       678\n",
            "\n"
          ],
          "name": "stdout"
        }
      ]
    },
    {
      "cell_type": "markdown",
      "metadata": {
        "id": "ljvMuxkKMqX5"
      },
      "source": [
        "## Building Ensembles of Decision Tree\n"
      ]
    },
    {
      "cell_type": "code",
      "metadata": {
        "id": "kyF35CWgNE9W"
      },
      "source": [
        "#Random Forest\n",
        "from sklearn.ensemble import RandomForestClassifier\n",
        "from sklearn.ensemble import GradientBoostingClassifier"
      ],
      "execution_count": 470,
      "outputs": []
    },
    {
      "cell_type": "code",
      "metadata": {
        "id": "tZRVFpViIgCF"
      },
      "source": [
        "#Random Forest\n",
        "# classifier = RandomForestClassifier() \n",
        "# grid_values = {'n_estimators':[40,80,120,160], 'max_depth':[5, 7, 10, 15,20]}\n",
        "# classifier = GridSearchCV(classifier, param_grid = grid_values, scoring = 'roc_auc', cv=5)"
      ],
      "execution_count": 471,
      "outputs": []
    },
    {
      "cell_type": "code",
      "metadata": {
        "id": "SOfUbI0zPz6R"
      },
      "source": [
        "classifier = RandomForestClassifier(n_estimators=30,max_depth=20,random_state=30,min_samples_split=3,criterion='entropy')"
      ],
      "execution_count": 472,
      "outputs": []
    },
    {
      "cell_type": "code",
      "metadata": {
        "colab": {
          "base_uri": "https://localhost:8080/"
        },
        "id": "nxtWnMoZNCjd",
        "outputId": "900216cc-d31b-4e48-8098-00ef2309cb67"
      },
      "source": [
        "classifier.fit(X_train,y_train)"
      ],
      "execution_count": 473,
      "outputs": [
        {
          "output_type": "execute_result",
          "data": {
            "text/plain": [
              "RandomForestClassifier(bootstrap=True, ccp_alpha=0.0, class_weight=None,\n",
              "                       criterion='entropy', max_depth=20, max_features='auto',\n",
              "                       max_leaf_nodes=None, max_samples=None,\n",
              "                       min_impurity_decrease=0.0, min_impurity_split=None,\n",
              "                       min_samples_leaf=1, min_samples_split=3,\n",
              "                       min_weight_fraction_leaf=0.0, n_estimators=30,\n",
              "                       n_jobs=None, oob_score=False, random_state=30, verbose=0,\n",
              "                       warm_start=False)"
            ]
          },
          "metadata": {
            "tags": []
          },
          "execution_count": 473
        }
      ]
    },
    {
      "cell_type": "code",
      "metadata": {
        "id": "TNi2iCp3Na0C"
      },
      "source": [
        "train_preds =  classifier.predict(X_train)\n",
        "test_preds  = classifier.predict(X_test)"
      ],
      "execution_count": 474,
      "outputs": []
    },
    {
      "cell_type": "markdown",
      "metadata": {
        "id": "nKkKlm4pjbxe"
      },
      "source": [
        "Finding the accuracy and Roc_Auc score"
      ]
    },
    {
      "cell_type": "code",
      "metadata": {
        "colab": {
          "base_uri": "https://localhost:8080/"
        },
        "id": "kQiqiBGmNp5f",
        "outputId": "b6300e32-9f0e-40e7-b3f3-406fd4831d86"
      },
      "source": [
        "accuracy_score(y_train,train_preds)"
      ],
      "execution_count": 475,
      "outputs": [
        {
          "output_type": "execute_result",
          "data": {
            "text/plain": [
              "0.9911504424778761"
            ]
          },
          "metadata": {
            "tags": []
          },
          "execution_count": 475
        }
      ]
    },
    {
      "cell_type": "code",
      "metadata": {
        "colab": {
          "base_uri": "https://localhost:8080/"
        },
        "id": "ww2ARMI3Ntna",
        "outputId": "1be54909-ce53-42a2-8222-5856ead7f8a0"
      },
      "source": [
        "accuracy_score(y_test,test_preds)"
      ],
      "execution_count": 476,
      "outputs": [
        {
          "output_type": "execute_result",
          "data": {
            "text/plain": [
              "0.8436578171091446"
            ]
          },
          "metadata": {
            "tags": []
          },
          "execution_count": 476
        }
      ]
    },
    {
      "cell_type": "code",
      "metadata": {
        "colab": {
          "base_uri": "https://localhost:8080/"
        },
        "id": "DV0F3seYOP5X",
        "outputId": "47b1162a-5019-475a-aa54-096b47fcf503"
      },
      "source": [
        "roc_auc_score(y_test,test_preds)"
      ],
      "execution_count": 477,
      "outputs": [
        {
          "output_type": "execute_result",
          "data": {
            "text/plain": [
              "0.5160869639823602"
            ]
          },
          "metadata": {
            "tags": []
          },
          "execution_count": 477
        }
      ]
    },
    {
      "cell_type": "code",
      "metadata": {
        "colab": {
          "base_uri": "https://localhost:8080/"
        },
        "id": "f4sGxgwaPOUT",
        "outputId": "7b9dc03c-a7f3-4ed5-aa88-a34f96ffad6b"
      },
      "source": [
        "roc_auc_score(y_train,train_preds)"
      ],
      "execution_count": 478,
      "outputs": [
        {
          "output_type": "execute_result",
          "data": {
            "text/plain": [
              "0.9707317073170731"
            ]
          },
          "metadata": {
            "tags": []
          },
          "execution_count": 478
        }
      ]
    },
    {
      "cell_type": "code",
      "metadata": {
        "colab": {
          "base_uri": "https://localhost:8080/",
          "height": 346
        },
        "id": "vCq7oIQlTldg",
        "outputId": "bdadecf7-92df-48c6-aa63-fddeb088f752"
      },
      "source": [
        "#the confusion matrix for training\n",
        "labels = ['At Risk', 'No Risk']\n",
        "cm = confusion_matrix(y_train, train_preds)\n",
        "print(cm)\n",
        "ax= plt.subplot()\n",
        "sns.heatmap(cm, annot=True, ax = ax) #annot=True to annotate cells\n",
        "ax.set_xlabel('Predicted labels') \n",
        "ax.set_ylabel('True labels')\n",
        "ax.set_title('Confusion Matrix for Random Forest Train predict')\n",
        "ax.xaxis.set_ticklabels(labels)\n",
        "ax.yaxis.set_ticklabels(labels)"
      ],
      "execution_count": 479,
      "outputs": [
        {
          "output_type": "stream",
          "text": [
            "[[2302    0]\n",
            " [  24  386]]\n"
          ],
          "name": "stdout"
        },
        {
          "output_type": "execute_result",
          "data": {
            "text/plain": [
              "[Text(0, 0.5, 'At Risk'), Text(0, 1.5, 'No Risk')]"
            ]
          },
          "metadata": {
            "tags": []
          },
          "execution_count": 479
        },
        {
          "output_type": "display_data",
          "data": {
            "image/png": "[encoded data removed]",
            "text/plain": [
              "<Figure size 432x288 with 2 Axes>"
            ]
          },
          "metadata": {
            "tags": [],
            "needs_background": "light"
          }
        }
      ]
    },
    {
      "cell_type": "code",
      "metadata": {
        "colab": {
          "base_uri": "https://localhost:8080/",
          "height": 346
        },
        "id": "M9TJIkZCT82O",
        "outputId": "64bcfd6e-6241-47e7-caea-0c5a764569aa"
      },
      "source": [
        "#the confusion matrix for test data\n",
        "labels = ['At Risk', 'No Risk']\n",
        "cm = confusion_matrix(y_test, test_preds)\n",
        "print(cm)\n",
        "ax= plt.subplot()\n",
        "sns.heatmap(cm, annot=True, ax = ax) #annot=True to annotate cells\n",
        "# labels, title and ticks\n",
        "ax.set_xlabel('Predicted labels')\n",
        "ax.set_ylabel('True labels')\n",
        "ax.set_title('Confusion Matrix for Random Forest Test predict')\n",
        "ax.xaxis.set_ticklabels(labels)\n",
        "ax.yaxis.set_ticklabels(labels)"
      ],
      "execution_count": 480,
      "outputs": [
        {
          "output_type": "stream",
          "text": [
            "[[567  10]\n",
            " [ 96   5]]\n"
          ],
          "name": "stdout"
        },
        {
          "output_type": "execute_result",
          "data": {
            "text/plain": [
              "[Text(0, 0.5, 'At Risk'), Text(0, 1.5, 'No Risk')]"
            ]
          },
          "metadata": {
            "tags": []
          },
          "execution_count": 480
        },
        {
          "output_type": "display_data",
          "data": {
            "image/png": "[encoded data removed]",
            "text/plain": [
              "<Figure size 432x288 with 2 Axes>"
            ]
          },
          "metadata": {
            "tags": [],
            "needs_background": "light"
          }
        }
      ]
    },
    {
      "cell_type": "code",
      "metadata": {
        "colab": {
          "base_uri": "https://localhost:8080/"
        },
        "id": "zkPE8OVWTO7i",
        "outputId": "7de31d69-b8e1-442b-ad0b-7d0e7642d3d3"
      },
      "source": [
        "#classification report for train\n",
        "print(classification_report(y_train, train_preds))"
      ],
      "execution_count": 481,
      "outputs": [
        {
          "output_type": "stream",
          "text": [
            "              precision    recall  f1-score   support\n",
            "\n",
            "           0       0.99      1.00      0.99      2302\n",
            "           1       1.00      0.94      0.97       410\n",
            "\n",
            "    accuracy                           0.99      2712\n",
            "   macro avg       0.99      0.97      0.98      2712\n",
            "weighted avg       0.99      0.99      0.99      2712\n",
            "\n"
          ],
          "name": "stdout"
        }
      ]
    },
    {
      "cell_type": "code",
      "metadata": {
        "colab": {
          "base_uri": "https://localhost:8080/"
        },
        "id": "-fCNxwcpVnJK",
        "outputId": "7b882c88-b06c-41dc-e0c9-fff2649774d0"
      },
      "source": [
        "#classification report for test\n",
        "print(classification_report(y_test, test_preds))"
      ],
      "execution_count": 482,
      "outputs": [
        {
          "output_type": "stream",
          "text": [
            "              precision    recall  f1-score   support\n",
            "\n",
            "           0       0.86      0.98      0.91       577\n",
            "           1       0.33      0.05      0.09       101\n",
            "\n",
            "    accuracy                           0.84       678\n",
            "   macro avg       0.59      0.52      0.50       678\n",
            "weighted avg       0.78      0.84      0.79       678\n",
            "\n"
          ],
          "name": "stdout"
        }
      ]
    },
    {
      "cell_type": "code",
      "metadata": {
        "colab": {
          "base_uri": "https://localhost:8080/",
          "height": 323
        },
        "id": "-FLuthAiS3sb",
        "outputId": "871f8d1e-0260-4f20-b220-ee7558bd9dbe"
      },
      "source": [
        "plot_roc_curve(classifier,X,Y)\n",
        "plt.title(\"Roc Auc Curve for Random_Forest\")"
      ],
      "execution_count": 510,
      "outputs": [
        {
          "output_type": "error",
          "ename": "NotFittedError",
          "evalue": "ignored",
          "traceback": [
            "\u001b[0;31m---------------------------------------------------------------------------\u001b[0m",
            "\u001b[0;31mNotFittedError\u001b[0m                            Traceback (most recent call last)",
            "\u001b[0;32m<ipython-input-510-b88fdb35f1e7>\u001b[0m in \u001b[0;36m<module>\u001b[0;34m()\u001b[0m\n\u001b[0;32m----> 1\u001b[0;31m \u001b[0mplot_roc_curve\u001b[0m\u001b[0;34m(\u001b[0m\u001b[0mclassifier\u001b[0m\u001b[0;34m,\u001b[0m\u001b[0mX\u001b[0m\u001b[0;34m,\u001b[0m\u001b[0mY\u001b[0m\u001b[0;34m)\u001b[0m\u001b[0;34m\u001b[0m\u001b[0;34m\u001b[0m\u001b[0m\n\u001b[0m\u001b[1;32m      2\u001b[0m \u001b[0mplt\u001b[0m\u001b[0;34m.\u001b[0m\u001b[0mtitle\u001b[0m\u001b[0;34m(\u001b[0m\u001b[0;34m\"Roc Auc Curve for Logistic Regression\"\u001b[0m\u001b[0;34m)\u001b[0m\u001b[0;34m\u001b[0m\u001b[0;34m\u001b[0m\u001b[0m\n",
            "\u001b[0;32m/usr/local/lib/python3.7/dist-packages/sklearn/metrics/_plot/roc_curve.py\u001b[0m in \u001b[0;36mplot_roc_curve\u001b[0;34m(estimator, X, y, sample_weight, drop_intermediate, response_method, name, ax, **kwargs)\u001b[0m\n\u001b[1;32m    174\u001b[0m     prediction_method = _check_classifer_response_method(estimator,\n\u001b[1;32m    175\u001b[0m                                                          response_method)\n\u001b[0;32m--> 176\u001b[0;31m     \u001b[0my_pred\u001b[0m \u001b[0;34m=\u001b[0m \u001b[0mprediction_method\u001b[0m\u001b[0;34m(\u001b[0m\u001b[0mX\u001b[0m\u001b[0;34m)\u001b[0m\u001b[0;34m\u001b[0m\u001b[0;34m\u001b[0m\u001b[0m\n\u001b[0m\u001b[1;32m    177\u001b[0m \u001b[0;34m\u001b[0m\u001b[0m\n\u001b[1;32m    178\u001b[0m     \u001b[0;32mif\u001b[0m \u001b[0my_pred\u001b[0m\u001b[0;34m.\u001b[0m\u001b[0mndim\u001b[0m \u001b[0;34m!=\u001b[0m \u001b[0;36m1\u001b[0m\u001b[0;34m:\u001b[0m\u001b[0;34m\u001b[0m\u001b[0;34m\u001b[0m\u001b[0m\n",
            "\u001b[0;32m/usr/local/lib/python3.7/dist-packages/sklearn/utils/metaestimators.py\u001b[0m in \u001b[0;36m<lambda>\u001b[0;34m(*args, **kwargs)\u001b[0m\n\u001b[1;32m    114\u001b[0m \u001b[0;34m\u001b[0m\u001b[0m\n\u001b[1;32m    115\u001b[0m         \u001b[0;31m# lambda, but not partial, allows help() to work with update_wrapper\u001b[0m\u001b[0;34m\u001b[0m\u001b[0;34m\u001b[0m\u001b[0;34m\u001b[0m\u001b[0m\n\u001b[0;32m--> 116\u001b[0;31m         \u001b[0mout\u001b[0m \u001b[0;34m=\u001b[0m \u001b[0;32mlambda\u001b[0m \u001b[0;34m*\u001b[0m\u001b[0margs\u001b[0m\u001b[0;34m,\u001b[0m \u001b[0;34m**\u001b[0m\u001b[0mkwargs\u001b[0m\u001b[0;34m:\u001b[0m \u001b[0mself\u001b[0m\u001b[0;34m.\u001b[0m\u001b[0mfn\u001b[0m\u001b[0;34m(\u001b[0m\u001b[0mobj\u001b[0m\u001b[0;34m,\u001b[0m \u001b[0;34m*\u001b[0m\u001b[0margs\u001b[0m\u001b[0;34m,\u001b[0m \u001b[0;34m**\u001b[0m\u001b[0mkwargs\u001b[0m\u001b[0;34m)\u001b[0m\u001b[0;34m\u001b[0m\u001b[0;34m\u001b[0m\u001b[0m\n\u001b[0m\u001b[1;32m    117\u001b[0m         \u001b[0;31m# update the docstring of the returned function\u001b[0m\u001b[0;34m\u001b[0m\u001b[0;34m\u001b[0m\u001b[0;34m\u001b[0m\u001b[0m\n\u001b[1;32m    118\u001b[0m         \u001b[0mupdate_wrapper\u001b[0m\u001b[0;34m(\u001b[0m\u001b[0mout\u001b[0m\u001b[0;34m,\u001b[0m \u001b[0mself\u001b[0m\u001b[0;34m.\u001b[0m\u001b[0mfn\u001b[0m\u001b[0;34m)\u001b[0m\u001b[0;34m\u001b[0m\u001b[0;34m\u001b[0m\u001b[0m\n",
            "\u001b[0;32m/usr/local/lib/python3.7/dist-packages/sklearn/model_selection/_search.py\u001b[0m in \u001b[0;36mpredict_proba\u001b[0;34m(self, X)\u001b[0m\n\u001b[1;32m    491\u001b[0m \u001b[0;34m\u001b[0m\u001b[0m\n\u001b[1;32m    492\u001b[0m         \"\"\"\n\u001b[0;32m--> 493\u001b[0;31m         \u001b[0mself\u001b[0m\u001b[0;34m.\u001b[0m\u001b[0m_check_is_fitted\u001b[0m\u001b[0;34m(\u001b[0m\u001b[0;34m'predict_proba'\u001b[0m\u001b[0;34m)\u001b[0m\u001b[0;34m\u001b[0m\u001b[0;34m\u001b[0m\u001b[0m\n\u001b[0m\u001b[1;32m    494\u001b[0m         \u001b[0;32mreturn\u001b[0m \u001b[0mself\u001b[0m\u001b[0;34m.\u001b[0m\u001b[0mbest_estimator_\u001b[0m\u001b[0;34m.\u001b[0m\u001b[0mpredict_proba\u001b[0m\u001b[0;34m(\u001b[0m\u001b[0mX\u001b[0m\u001b[0;34m)\u001b[0m\u001b[0;34m\u001b[0m\u001b[0;34m\u001b[0m\u001b[0m\n\u001b[1;32m    495\u001b[0m \u001b[0;34m\u001b[0m\u001b[0m\n",
            "\u001b[0;32m/usr/local/lib/python3.7/dist-packages/sklearn/model_selection/_search.py\u001b[0m in \u001b[0;36m_check_is_fitted\u001b[0;34m(self, method_name)\u001b[0m\n\u001b[1;32m    458\u001b[0m                                  % (type(self).__name__, method_name))\n\u001b[1;32m    459\u001b[0m         \u001b[0;32melse\u001b[0m\u001b[0;34m:\u001b[0m\u001b[0;34m\u001b[0m\u001b[0;34m\u001b[0m\u001b[0m\n\u001b[0;32m--> 460\u001b[0;31m             \u001b[0mcheck_is_fitted\u001b[0m\u001b[0;34m(\u001b[0m\u001b[0mself\u001b[0m\u001b[0;34m)\u001b[0m\u001b[0;34m\u001b[0m\u001b[0;34m\u001b[0m\u001b[0m\n\u001b[0m\u001b[1;32m    461\u001b[0m \u001b[0;34m\u001b[0m\u001b[0m\n\u001b[1;32m    462\u001b[0m     \u001b[0;34m@\u001b[0m\u001b[0mif_delegate_has_method\u001b[0m\u001b[0;34m(\u001b[0m\u001b[0mdelegate\u001b[0m\u001b[0;34m=\u001b[0m\u001b[0;34m(\u001b[0m\u001b[0;34m'best_estimator_'\u001b[0m\u001b[0;34m,\u001b[0m \u001b[0;34m'estimator'\u001b[0m\u001b[0;34m)\u001b[0m\u001b[0;34m)\u001b[0m\u001b[0;34m\u001b[0m\u001b[0;34m\u001b[0m\u001b[0m\n",
            "\u001b[0;32m/usr/local/lib/python3.7/dist-packages/sklearn/utils/validation.py\u001b[0m in \u001b[0;36mcheck_is_fitted\u001b[0;34m(estimator, attributes, msg, all_or_any)\u001b[0m\n\u001b[1;32m    965\u001b[0m \u001b[0;34m\u001b[0m\u001b[0m\n\u001b[1;32m    966\u001b[0m     \u001b[0;32mif\u001b[0m \u001b[0;32mnot\u001b[0m \u001b[0mattrs\u001b[0m\u001b[0;34m:\u001b[0m\u001b[0;34m\u001b[0m\u001b[0;34m\u001b[0m\u001b[0m\n\u001b[0;32m--> 967\u001b[0;31m         \u001b[0;32mraise\u001b[0m \u001b[0mNotFittedError\u001b[0m\u001b[0;34m(\u001b[0m\u001b[0mmsg\u001b[0m \u001b[0;34m%\u001b[0m \u001b[0;34m{\u001b[0m\u001b[0;34m'name'\u001b[0m\u001b[0;34m:\u001b[0m \u001b[0mtype\u001b[0m\u001b[0;34m(\u001b[0m\u001b[0mestimator\u001b[0m\u001b[0;34m)\u001b[0m\u001b[0;34m.\u001b[0m\u001b[0m__name__\u001b[0m\u001b[0;34m}\u001b[0m\u001b[0;34m)\u001b[0m\u001b[0;34m\u001b[0m\u001b[0;34m\u001b[0m\u001b[0m\n\u001b[0m\u001b[1;32m    968\u001b[0m \u001b[0;34m\u001b[0m\u001b[0m\n\u001b[1;32m    969\u001b[0m \u001b[0;34m\u001b[0m\u001b[0m\n",
            "\u001b[0;31mNotFittedError\u001b[0m: This GridSearchCV instance is not fitted yet. Call 'fit' with appropriate arguments before using this estimator."
          ]
        }
      ]
    },
    {
      "cell_type": "code",
      "metadata": {
        "id": "bayrPkvbVwaO"
      },
      "source": [
        "# Gradient Boost Classifier\n",
        "gradientBC = GradientBoostingClassifier(learning_rate=0.001,n_estimators=30,max_depth=20,random_state=30,min_samples_split=3)"
      ],
      "execution_count": 484,
      "outputs": []
    },
    {
      "cell_type": "code",
      "metadata": {
        "id": "9B6y3zJJX7g7"
      },
      "source": [
        "gradientBC = GradientBoostingClassifier()\n",
        " \n",
        "grid_values = {'n_estimators':[50, 80,  100], 'max_depth':[3, 5, 7 , 10],'learning_rate':[0.0001,0.001,0.01,0.05,0.000001,0.0003]}\n",
        "classifier = GridSearchCV(classifier, param_grid = grid_values, scoring = 'roc_auc', cv=5)"
      ],
      "execution_count": 485,
      "outputs": []
    },
    {
      "cell_type": "code",
      "metadata": {
        "colab": {
          "base_uri": "https://localhost:8080/"
        },
        "id": "7TiTUjfzXM-r",
        "outputId": "4e6e48eb-cd82-44ad-cde3-887e3203d911"
      },
      "source": [
        "gradientBC.fit(X_train,y_train)"
      ],
      "execution_count": 486,
      "outputs": [
        {
          "output_type": "execute_result",
          "data": {
            "text/plain": [
              "GradientBoostingClassifier(ccp_alpha=0.0, criterion='friedman_mse', init=None,\n",
              "                           learning_rate=0.1, loss='deviance', max_depth=3,\n",
              "                           max_features=None, max_leaf_nodes=None,\n",
              "                           min_impurity_decrease=0.0, min_impurity_split=None,\n",
              "                           min_samples_leaf=1, min_samples_split=2,\n",
              "                           min_weight_fraction_leaf=0.0, n_estimators=100,\n",
              "                           n_iter_no_change=None, presort='deprecated',\n",
              "                           random_state=None, subsample=1.0, tol=0.0001,\n",
              "                           validation_fraction=0.1, verbose=0,\n",
              "                           warm_start=False)"
            ]
          },
          "metadata": {
            "tags": []
          },
          "execution_count": 486
        }
      ]
    },
    {
      "cell_type": "code",
      "metadata": {
        "id": "cnmuwZx7XSjt"
      },
      "source": [
        "train_preds =  gradientBC.predict(X_train)\n",
        "test_preds  = gradientBC.predict(X_test)"
      ],
      "execution_count": 487,
      "outputs": []
    },
    {
      "cell_type": "markdown",
      "metadata": {
        "id": "Ru8bW-Rmkep2"
      },
      "source": [
        "The accuracy and Roc_Auc Score"
      ]
    },
    {
      "cell_type": "code",
      "metadata": {
        "colab": {
          "base_uri": "https://localhost:8080/"
        },
        "id": "JumAbcvwXnru",
        "outputId": "9f8bdcef-65db-440b-ea70-33879662ede2"
      },
      "source": [
        "accuracy_score(y_train,train_preds)"
      ],
      "execution_count": 488,
      "outputs": [
        {
          "output_type": "execute_result",
          "data": {
            "text/plain": [
              "0.8827433628318584"
            ]
          },
          "metadata": {
            "tags": []
          },
          "execution_count": 488
        }
      ]
    },
    {
      "cell_type": "code",
      "metadata": {
        "colab": {
          "base_uri": "https://localhost:8080/"
        },
        "id": "FRbkJn1vXuDg",
        "outputId": "bb10f196-600d-498d-b6ff-d09a76a104d5"
      },
      "source": [
        "accuracy_score(y_test,test_preds)"
      ],
      "execution_count": 489,
      "outputs": [
        {
          "output_type": "execute_result",
          "data": {
            "text/plain": [
              "0.8628318584070797"
            ]
          },
          "metadata": {
            "tags": []
          },
          "execution_count": 489
        }
      ]
    },
    {
      "cell_type": "code",
      "metadata": {
        "colab": {
          "base_uri": "https://localhost:8080/"
        },
        "id": "EcVpy1hbfryJ",
        "outputId": "c83c4fb4-a0ed-4e33-f5cc-a511a0b89125"
      },
      "source": [
        "roc_auc_score(y_test,test_preds)\n"
      ],
      "execution_count": 490,
      "outputs": [
        {
          "output_type": "execute_result",
          "data": {
            "text/plain": [
              "0.560023680010982"
            ]
          },
          "metadata": {
            "tags": []
          },
          "execution_count": 490
        }
      ]
    },
    {
      "cell_type": "code",
      "metadata": {
        "colab": {
          "base_uri": "https://localhost:8080/"
        },
        "id": "48ixKNWQfu3T",
        "outputId": "269e6669-6514-4b4f-80c9-6997e0312cfc"
      },
      "source": [
        "roc_auc_score(y_train,train_preds)"
      ],
      "execution_count": 491,
      "outputs": [
        {
          "output_type": "execute_result",
          "data": {
            "text/plain": [
              "0.6131974317136741"
            ]
          },
          "metadata": {
            "tags": []
          },
          "execution_count": 491
        }
      ]
    },
    {
      "cell_type": "code",
      "metadata": {
        "colab": {
          "base_uri": "https://localhost:8080/",
          "height": 346
        },
        "id": "rbK7KhqPgIkL",
        "outputId": "0ce6f1a8-2e7f-4aad-e8b4-7a051b4a5b59"
      },
      "source": [
        "#the confusion matrix for training\n",
        "labels = ['At Risk', 'No Risk']\n",
        "cm = confusion_matrix(y_train, train_preds)\n",
        "print(cm)\n",
        "ax= plt.subplot()\n",
        "sns.heatmap(cm, annot=True, ax = ax) #annot=True to annotate cells\n",
        "ax.set_xlabel('Predicted labels') \n",
        "ax.set_ylabel('True labels')\n",
        "ax.set_title('Confusion Matrix for Gradient Boosting Classifier predict')\n",
        "ax.xaxis.set_ticklabels(labels)\n",
        "ax.yaxis.set_ticklabels(labels)"
      ],
      "execution_count": 492,
      "outputs": [
        {
          "output_type": "stream",
          "text": [
            "[[2301    1]\n",
            " [ 317   93]]\n"
          ],
          "name": "stdout"
        },
        {
          "output_type": "execute_result",
          "data": {
            "text/plain": [
              "[Text(0, 0.5, 'At Risk'), Text(0, 1.5, 'No Risk')]"
            ]
          },
          "metadata": {
            "tags": []
          },
          "execution_count": 492
        },
        {
          "output_type": "display_data",
          "data": {
            "image/png": "[encoded data removed]",
            "text/plain": [
              "<Figure size 432x288 with 2 Axes>"
            ]
          },
          "metadata": {
            "tags": [],
            "needs_background": "light"
          }
        }
      ]
    },
    {
      "cell_type": "code",
      "metadata": {
        "colab": {
          "base_uri": "https://localhost:8080/",
          "height": 346
        },
        "id": "SpCSLys5gM7D",
        "outputId": "5456b742-beff-45df-c3d5-fd7a3f8f9f91"
      },
      "source": [
        "#the confusion matrix for testing\n",
        "labels = ['At Risk', 'No Risk']\n",
        "cm = confusion_matrix(y_test, test_preds)\n",
        "print(cm)\n",
        "ax= plt.subplot()\n",
        "sns.heatmap(cm, annot=True, ax = ax) #annot=True to annotate cells\n",
        "ax.set_xlabel('Predicted labels') \n",
        "ax.set_ylabel('True labels')\n",
        "ax.set_title('Confusion Matrix for Gradient Boosting Classifier predict')\n",
        "ax.xaxis.set_ticklabels(labels)\n",
        "ax.yaxis.set_ticklabels(labels)"
      ],
      "execution_count": 493,
      "outputs": [
        {
          "output_type": "stream",
          "text": [
            "[[572   5]\n",
            " [ 88  13]]\n"
          ],
          "name": "stdout"
        },
        {
          "output_type": "execute_result",
          "data": {
            "text/plain": [
              "[Text(0, 0.5, 'At Risk'), Text(0, 1.5, 'No Risk')]"
            ]
          },
          "metadata": {
            "tags": []
          },
          "execution_count": 493
        },
        {
          "output_type": "display_data",
          "data": {
            "image/png": "[encoded data removed]",
            "text/plain": [
              "<Figure size 432x288 with 2 Axes>"
            ]
          },
          "metadata": {
            "tags": [],
            "needs_background": "light"
          }
        }
      ]
    },
    {
      "cell_type": "code",
      "metadata": {
        "colab": {
          "base_uri": "https://localhost:8080/",
          "height": 312
        },
        "id": "kBtlCBLUXymI",
        "outputId": "efdda6ef-c5b3-42d5-f2e9-acaedca72578"
      },
      "source": [
        "plot_roc_curve(gradientBC,X,Y)\n",
        "plt.title(\"Roc Auc Curve for Gradient Boosting Classifier\")"
      ],
      "execution_count": 494,
      "outputs": [
        {
          "output_type": "execute_result",
          "data": {
            "text/plain": [
              "Text(0.5, 1.0, 'Roc Auc Curve for Logistic Regression')"
            ]
          },
          "metadata": {
            "tags": []
          },
          "execution_count": 494
        },
        {
          "output_type": "display_data",
          "data": {
            "image/png": "[encoded data removed]",
            "text/plain": [
              "<Figure size 432x288 with 1 Axes>"
            ]
          },
          "metadata": {
            "tags": [],
            "needs_background": "light"
          }
        }
      ]
    },
    {
      "cell_type": "markdown",
      "metadata": {
        "id": "Lxx4nWaxk3wp"
      },
      "source": [
        "classification repost of train and test"
      ]
    },
    {
      "cell_type": "code",
      "metadata": {
        "colab": {
          "base_uri": "https://localhost:8080/"
        },
        "id": "wx2wd2_EgeSd",
        "outputId": "4bd01993-ce4f-44e5-e3b0-45d24c84bb7a"
      },
      "source": [
        "print(classification_report(y_test, test_preds))\n",
        "print('\\n')\n",
        "print(classification_report(y_train, train_preds))"
      ],
      "execution_count": 495,
      "outputs": [
        {
          "output_type": "stream",
          "text": [
            "              precision    recall  f1-score   support\n",
            "\n",
            "           0       0.87      0.99      0.92       577\n",
            "           1       0.72      0.13      0.22       101\n",
            "\n",
            "    accuracy                           0.86       678\n",
            "   macro avg       0.79      0.56      0.57       678\n",
            "weighted avg       0.85      0.86      0.82       678\n",
            "\n",
            "\n",
            "\n",
            "              precision    recall  f1-score   support\n",
            "\n",
            "           0       0.88      1.00      0.94      2302\n",
            "           1       0.99      0.23      0.37       410\n",
            "\n",
            "    accuracy                           0.88      2712\n",
            "   macro avg       0.93      0.61      0.65      2712\n",
            "weighted avg       0.90      0.88      0.85      2712\n",
            "\n"
          ],
          "name": "stdout"
        }
      ]
    },
    {
      "cell_type": "code",
      "metadata": {
        "id": "XhQ_1LC_a8mm"
      },
      "source": [
        "import xgboost as xgb"
      ],
      "execution_count": 496,
      "outputs": []
    },
    {
      "cell_type": "code",
      "metadata": {
        "id": "T-Kk2fXObfyT"
      },
      "source": [
        "#using XGBoost\n",
        "xg_cla = xgb.XGBClassifier(objective='binary:logistic',colsample_bytree = 0.7, learning_rate = 0.01,\n",
        "                max_depth = 10, alpha = 10, n_estimators = 10,subsample=1)"
      ],
      "execution_count": 497,
      "outputs": []
    },
    {
      "cell_type": "code",
      "metadata": {
        "colab": {
          "base_uri": "https://localhost:8080/"
        },
        "id": "YyRRavMYbfr_",
        "outputId": "eba15355-95cd-45c9-a43f-51349c523076"
      },
      "source": [
        "xg_cla.fit(X_test,y_test)"
      ],
      "execution_count": 498,
      "outputs": [
        {
          "output_type": "execute_result",
          "data": {
            "text/plain": [
              "XGBClassifier(alpha=10, base_score=0.5, booster='gbtree', colsample_bylevel=1,\n",
              "              colsample_bynode=1, colsample_bytree=0.7, gamma=0,\n",
              "              learning_rate=0.01, max_delta_step=0, max_depth=10,\n",
              "              min_child_weight=1, missing=None, n_estimators=10, n_jobs=1,\n",
              "              nthread=None, objective='binary:logistic', random_state=0,\n",
              "              reg_alpha=0, reg_lambda=1, scale_pos_weight=1, seed=None,\n",
              "              silent=None, subsample=1, verbosity=1)"
            ]
          },
          "metadata": {
            "tags": []
          },
          "execution_count": 498
        }
      ]
    },
    {
      "cell_type": "code",
      "metadata": {
        "id": "ioEmG5StZTle"
      },
      "source": [
        "train_preds = xg_cla.predict(X_train)\n",
        "test_preds = xg_cla.predict(X_test)"
      ],
      "execution_count": 499,
      "outputs": []
    },
    {
      "cell_type": "code",
      "metadata": {
        "colab": {
          "base_uri": "https://localhost:8080/"
        },
        "id": "wsPi4yTpbH7w",
        "outputId": "09e366cb-a397-4efa-d9f1-4b4e17bf98d4"
      },
      "source": [
        "accuracy_score(y_train,train_preds)"
      ],
      "execution_count": 500,
      "outputs": [
        {
          "output_type": "execute_result",
          "data": {
            "text/plain": [
              "0.8458702064896755"
            ]
          },
          "metadata": {
            "tags": []
          },
          "execution_count": 500
        }
      ]
    },
    {
      "cell_type": "code",
      "metadata": {
        "colab": {
          "base_uri": "https://localhost:8080/"
        },
        "id": "ZQsCpngecrKV",
        "outputId": "b29f9422-4f58-4097-f6f4-71637a61e3bd"
      },
      "source": [
        "accuracy_score(y_test,test_preds)"
      ],
      "execution_count": 501,
      "outputs": [
        {
          "output_type": "execute_result",
          "data": {
            "text/plain": [
              "0.9056047197640118"
            ]
          },
          "metadata": {
            "tags": []
          },
          "execution_count": 501
        }
      ]
    },
    {
      "cell_type": "code",
      "metadata": {
        "colab": {
          "base_uri": "https://localhost:8080/"
        },
        "id": "FSnENtWBetym",
        "outputId": "bdfffbe1-5d27-4563-c945-45f9fe012461"
      },
      "source": [
        "roc_auc_score(y_test,test_preds)"
      ],
      "execution_count": 502,
      "outputs": [
        {
          "output_type": "execute_result",
          "data": {
            "text/plain": [
              "0.6872522607546716"
            ]
          },
          "metadata": {
            "tags": []
          },
          "execution_count": 502
        }
      ]
    },
    {
      "cell_type": "code",
      "metadata": {
        "colab": {
          "base_uri": "https://localhost:8080/"
        },
        "id": "GMo95T1If25s",
        "outputId": "274a0487-b41d-4d0b-9d9b-22b87a3b1356"
      },
      "source": [
        "roc_auc_score(y_train,train_preds)"
      ],
      "execution_count": 503,
      "outputs": [
        {
          "output_type": "execute_result",
          "data": {
            "text/plain": [
              "0.5253247441249391"
            ]
          },
          "metadata": {
            "tags": []
          },
          "execution_count": 503
        }
      ]
    },
    {
      "cell_type": "code",
      "metadata": {
        "colab": {
          "base_uri": "https://localhost:8080/",
          "height": 346
        },
        "id": "qQGNPyhHgSLM",
        "outputId": "449599c2-650d-402c-f842-52c593c498bf"
      },
      "source": [
        "#the confusion matrix for training\n",
        "labels = ['At Risk', 'No Risk']\n",
        "cm = confusion_matrix(y_train, train_preds)\n",
        "print(cm)\n",
        "ax= plt.subplot()\n",
        "sns.heatmap(cm, annot=True, ax = ax) #annot=True to annotate cells\n",
        "ax.set_xlabel('Predicted labels') \n",
        "ax.set_ylabel('True labels')\n",
        "ax.set_title('Confusion Matrix for XGBoost Train predict')\n",
        "ax.xaxis.set_ticklabels(labels)\n",
        "ax.yaxis.set_ticklabels(labels)"
      ],
      "execution_count": 504,
      "outputs": [
        {
          "output_type": "stream",
          "text": [
            "[[2267   35]\n",
            " [ 383   27]]\n"
          ],
          "name": "stdout"
        },
        {
          "output_type": "execute_result",
          "data": {
            "text/plain": [
              "[Text(0, 0.5, 'At Risk'), Text(0, 1.5, 'No Risk')]"
            ]
          },
          "metadata": {
            "tags": []
          },
          "execution_count": 504
        },
        {
          "output_type": "display_data",
          "data": {
            "image/png": "[encoded data removed]",
            "text/plain": [
              "<Figure size 432x288 with 2 Axes>"
            ]
          },
          "metadata": {
            "tags": [],
            "needs_background": "light"
          }
        }
      ]
    },
    {
      "cell_type": "code",
      "metadata": {
        "colab": {
          "base_uri": "https://localhost:8080/",
          "height": 346
        },
        "id": "uTHjxH2ggTG7",
        "outputId": "74f02024-7f14-476e-b24e-0cc7f42ccb23"
      },
      "source": [
        "#the confusion matrix for testing\n",
        "labels = ['At Risk', 'No Risk']\n",
        "cm = confusion_matrix(y_test, test_preds)\n",
        "print(cm)\n",
        "ax= plt.subplot()\n",
        "sns.heatmap(cm, annot=True, ax = ax) #annot=True to annotate cells\n",
        "ax.set_xlabel('Predicted labels') \n",
        "ax.set_ylabel('True labels')\n",
        "ax.set_title('Confusion Matrix for XGBOOST Test predict')\n",
        "ax.xaxis.set_ticklabels(labels)\n",
        "ax.yaxis.set_ticklabels(labels)"
      ],
      "execution_count": 505,
      "outputs": [
        {
          "output_type": "stream",
          "text": [
            "[[576   1]\n",
            " [ 63  38]]\n"
          ],
          "name": "stdout"
        },
        {
          "output_type": "execute_result",
          "data": {
            "text/plain": [
              "[Text(0, 0.5, 'At Risk'), Text(0, 1.5, 'No Risk')]"
            ]
          },
          "metadata": {
            "tags": []
          },
          "execution_count": 505
        },
        {
          "output_type": "display_data",
          "data": {
            "image/png": "[encoded data removed]",
            "text/plain": [
              "<Figure size 432x288 with 2 Axes>"
            ]
          },
          "metadata": {
            "tags": [],
            "needs_background": "light"
          }
        }
      ]
    },
    {
      "cell_type": "markdown",
      "metadata": {
        "id": "h4JSl-jnlLDv"
      },
      "source": [
        "Classifucation Repost For train and test"
      ]
    },
    {
      "cell_type": "code",
      "metadata": {
        "colab": {
          "base_uri": "https://localhost:8080/"
        },
        "id": "Qqxx9nzlgwy7",
        "outputId": "772b16d9-a4c4-47e1-bdb2-c287c15147bc"
      },
      "source": [
        "print(classification_report(y_test, test_preds))\n",
        "print('\\n')\n",
        "print(classification_report(y_train, train_preds))"
      ],
      "execution_count": 506,
      "outputs": [
        {
          "output_type": "stream",
          "text": [
            "              precision    recall  f1-score   support\n",
            "\n",
            "           0       0.90      1.00      0.95       577\n",
            "           1       0.97      0.38      0.54       101\n",
            "\n",
            "    accuracy                           0.91       678\n",
            "   macro avg       0.94      0.69      0.75       678\n",
            "weighted avg       0.91      0.91      0.89       678\n",
            "\n",
            "\n",
            "\n",
            "              precision    recall  f1-score   support\n",
            "\n",
            "           0       0.86      0.98      0.92      2302\n",
            "           1       0.44      0.07      0.11       410\n",
            "\n",
            "    accuracy                           0.85      2712\n",
            "   macro avg       0.65      0.53      0.51      2712\n",
            "weighted avg       0.79      0.85      0.79      2712\n",
            "\n"
          ],
          "name": "stdout"
        }
      ]
    },
    {
      "cell_type": "markdown",
      "metadata": {
        "id": "Ui5Hijoclcx_"
      },
      "source": [
        "Visualising the tree"
      ]
    },
    {
      "cell_type": "code",
      "metadata": {
        "colab": {
          "base_uri": "https://localhost:8080/",
          "height": 183
        },
        "id": "QG8708zzdmfh",
        "outputId": "1fb5207a-7260-43a9-9c5b-e2b395357ca9"
      },
      "source": [
        "xgb.plot_tree(xg_cla,num_trees=0)\n",
        "\n",
        "plt.show()"
      ],
      "execution_count": 507,
      "outputs": [
        {
          "output_type": "display_data",
          "data": {
            "image/png": "[encoded data removed]",
            "text/plain": [
              "<Figure size 432x288 with 1 Axes>"
            ]
          },
          "metadata": {
            "tags": [],
            "needs_background": "light"
          }
        }
      ]
    },
    {
      "cell_type": "code",
      "metadata": {
        "colab": {
          "base_uri": "https://localhost:8080/",
          "height": 295
        },
        "id": "WSAxibuvgxtx",
        "outputId": "65651cd9-2a10-45ee-c0a0-5b363da9845d"
      },
      "source": [
        "xgb.plot_importance(xg_cla)\n",
        "plt.rcParams['figure.figsize'] = [5, 5]\n",
        "plt.show()"
      ],
      "execution_count": 511,
      "outputs": [
        {
          "output_type": "display_data",
          "data": {
            "image/png": "[encoded data removed]",
            "text/plain": [
              "<Figure size 432x288 with 1 Axes>"
            ]
          },
          "metadata": {
            "tags": [],
            "needs_background": "light"
          }
        }
      ]
    },
    {
      "cell_type": "code",
      "metadata": {
        "id": "TD6G7nBRoB0E"
      },
      "source": [
        ""
      ],
      "execution_count": null,
      "outputs": []
    }
  ]
}